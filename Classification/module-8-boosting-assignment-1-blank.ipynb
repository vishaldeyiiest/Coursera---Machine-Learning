{
 "metadata": {
  "kernelspec": {
   "display_name": "Python 2",
   "language": "python",
   "name": "python2"
  },
  "language_info": {
   "codemirror_mode": {
    "name": "ipython",
    "version": 2
   },
   "file_extension": ".py",
   "mimetype": "text/x-python",
   "name": "python",
   "nbconvert_exporter": "python",
   "pygments_lexer": "ipython2",
   "version": "2.7.10"
  },
  "name": "",
  "signature": "sha256:1e5b183c380edaddf064f7a5c7b0fa5ec98efa8a2f3f4ada36137ad15943afa4"
 },
 "nbformat": 3,
 "nbformat_minor": 0,
 "worksheets": [
  {
   "cells": [
    {
     "cell_type": "heading",
     "level": 1,
     "metadata": {},
     "source": [
      "Exploring Ensemble Methods"
     ]
    },
    {
     "cell_type": "markdown",
     "metadata": {},
     "source": [
      "In this assignment, we will explore the use of boosting. We will use the pre-implemented gradient boosted trees in GraphLab Create. You will:\n",
      "\n",
      "* Use SFrames to do some feature engineering.\n",
      "* Train a boosted ensemble of decision-trees (gradient boosted trees) on the LendingClub dataset.\n",
      "* Predict whether a loan will default along with prediction probabilities (on a validation set).\n",
      "* Evaluate the trained model and compare it with a baseline.\n",
      "* Find the most positive and negative loans using the learned model.\n",
      "* Explore how the number of trees influences classification performance.\n",
      "\n",
      "Let's get started!\n",
      "\n",
      "## Fire up Graphlab Create"
     ]
    },
    {
     "cell_type": "code",
     "collapsed": false,
     "input": [
      "import graphlab"
     ],
     "language": "python",
     "metadata": {},
     "outputs": [],
     "prompt_number": 1
    },
    {
     "cell_type": "markdown",
     "metadata": {},
     "source": [
      "# Load LendingClub dataset\n",
      "\n",
      "We will be using the [LendingClub](https://www.lendingclub.com/) data. As discussed earlier, the [LendingClub](https://www.lendingclub.com/) is a peer-to-peer leading company that directly connects borrowers and potential lenders/investors. \n",
      "\n",
      "Just like we did in previous assignments, we will build a classification model to predict whether or not a loan provided by lending club is likely to default.\n",
      "\n",
      "Let us start by loading the data."
     ]
    },
    {
     "cell_type": "code",
     "collapsed": false,
     "input": [
      "loans = graphlab.SFrame('lending-club-data.gl/')"
     ],
     "language": "python",
     "metadata": {},
     "outputs": [
      {
       "output_type": "stream",
       "stream": "stderr",
       "text": [
        "[INFO] graphlab.cython.cy_server: GraphLab Create v1.10.1 started. Logging: /tmp/graphlab_server_1469971712.log\n"
       ]
      },
      {
       "output_type": "stream",
       "stream": "stderr",
       "text": [
        "INFO:graphlab.cython.cy_server:GraphLab Create v1.10.1 started. Logging: /tmp/graphlab_server_1469971712.log\n"
       ]
      },
      {
       "output_type": "stream",
       "stream": "stdout",
       "text": [
        "This non-commercial license of GraphLab Create is assigned to vishal.ranaghat@gmail.com and will expire on July 01, 2017. For commercial licensing options, visit https://turi.com/buy/.\n"
       ]
      }
     ],
     "prompt_number": 2
    },
    {
     "cell_type": "markdown",
     "metadata": {},
     "source": [
      "Let's quickly explore what the dataset looks like. First, let's print out the column names to see what features we have in this dataset. We have done this in previous assignments, so we won't belabor this here."
     ]
    },
    {
     "cell_type": "code",
     "collapsed": false,
     "input": [
      "loans.column_names()"
     ],
     "language": "python",
     "metadata": {},
     "outputs": [
      {
       "metadata": {},
       "output_type": "pyout",
       "prompt_number": 3,
       "text": [
        "['id',\n",
        " 'member_id',\n",
        " 'loan_amnt',\n",
        " 'funded_amnt',\n",
        " 'funded_amnt_inv',\n",
        " 'term',\n",
        " 'int_rate',\n",
        " 'installment',\n",
        " 'grade',\n",
        " 'sub_grade',\n",
        " 'emp_title',\n",
        " 'emp_length',\n",
        " 'home_ownership',\n",
        " 'annual_inc',\n",
        " 'is_inc_v',\n",
        " 'issue_d',\n",
        " 'loan_status',\n",
        " 'pymnt_plan',\n",
        " 'url',\n",
        " 'desc',\n",
        " 'purpose',\n",
        " 'title',\n",
        " 'zip_code',\n",
        " 'addr_state',\n",
        " 'dti',\n",
        " 'delinq_2yrs',\n",
        " 'earliest_cr_line',\n",
        " 'inq_last_6mths',\n",
        " 'mths_since_last_delinq',\n",
        " 'mths_since_last_record',\n",
        " 'open_acc',\n",
        " 'pub_rec',\n",
        " 'revol_bal',\n",
        " 'revol_util',\n",
        " 'total_acc',\n",
        " 'initial_list_status',\n",
        " 'out_prncp',\n",
        " 'out_prncp_inv',\n",
        " 'total_pymnt',\n",
        " 'total_pymnt_inv',\n",
        " 'total_rec_prncp',\n",
        " 'total_rec_int',\n",
        " 'total_rec_late_fee',\n",
        " 'recoveries',\n",
        " 'collection_recovery_fee',\n",
        " 'last_pymnt_d',\n",
        " 'last_pymnt_amnt',\n",
        " 'next_pymnt_d',\n",
        " 'last_credit_pull_d',\n",
        " 'collections_12_mths_ex_med',\n",
        " 'mths_since_last_major_derog',\n",
        " 'policy_code',\n",
        " 'not_compliant',\n",
        " 'status',\n",
        " 'inactive_loans',\n",
        " 'bad_loans',\n",
        " 'emp_length_num',\n",
        " 'grade_num',\n",
        " 'sub_grade_num',\n",
        " 'delinq_2yrs_zero',\n",
        " 'pub_rec_zero',\n",
        " 'collections_12_mths_zero',\n",
        " 'short_emp',\n",
        " 'payment_inc_ratio',\n",
        " 'final_d',\n",
        " 'last_delinq_none',\n",
        " 'last_record_none',\n",
        " 'last_major_derog_none']"
       ]
      }
     ],
     "prompt_number": 3
    },
    {
     "cell_type": "markdown",
     "metadata": {},
     "source": [
      "## Modifying the target column\n",
      "\n",
      "The target column (label column) of the dataset that we are interested in is called `bad_loans`. In this column **1** means a risky (bad) loan **0** means a safe  loan.\n",
      "\n",
      "As in past assignments, in order to make this more intuitive and consistent with the lectures, we reassign the target to be:\n",
      "* **+1** as a safe  loan, \n",
      "* **-1** as a risky (bad) loan. \n",
      "\n",
      "We put this in a new column called `safe_loans`."
     ]
    },
    {
     "cell_type": "code",
     "collapsed": true,
     "input": [
      "loans['safe_loans'] = loans['bad_loans'].apply(lambda x : +1 if x==0 else -1)\n",
      "loans = loans.remove_column('bad_loans')"
     ],
     "language": "python",
     "metadata": {},
     "outputs": [],
     "prompt_number": 4
    },
    {
     "cell_type": "markdown",
     "metadata": {},
     "source": [
      "## Selecting features\n",
      "\n",
      "In this assignment, we will be using a subset of features (categorical and numeric). The features we will be using are **described in the code comments** below. If you are a finance geek, the [LendingClub](https://www.lendingclub.com/) website has a lot more details about these features.\n",
      "\n",
      "The features we will be using are described in the code comments below:"
     ]
    },
    {
     "cell_type": "code",
     "collapsed": false,
     "input": [
      "target = 'safe_loans'\n",
      "features = ['grade',                     # grade of the loan (categorical)\n",
      "            'sub_grade_num',             # sub-grade of the loan as a number from 0 to 1\n",
      "            'short_emp',                 # one year or less of employment\n",
      "            'emp_length_num',            # number of years of employment\n",
      "            'home_ownership',            # home_ownership status: own, mortgage or rent\n",
      "            'dti',                       # debt to income ratio\n",
      "            'purpose',                   # the purpose of the loan\n",
      "            'payment_inc_ratio',         # ratio of the monthly payment to income\n",
      "            'delinq_2yrs',               # number of delinquincies \n",
      "            'delinq_2yrs_zero',          # no delinquincies in last 2 years\n",
      "            'inq_last_6mths',            # number of creditor inquiries in last 6 months\n",
      "            'last_delinq_none',          # has borrower had a delinquincy\n",
      "            'last_major_derog_none',     # has borrower had 90 day or worse rating\n",
      "            'open_acc',                  # number of open credit accounts\n",
      "            'pub_rec',                   # number of derogatory public records\n",
      "            'pub_rec_zero',              # no derogatory public records\n",
      "            'revol_util',                # percent of available credit being used\n",
      "            'total_rec_late_fee',        # total late fees received to day\n",
      "            'int_rate',                  # interest rate of the loan\n",
      "            'total_rec_int',             # interest received to date\n",
      "            'annual_inc',                # annual income of borrower\n",
      "            'funded_amnt',               # amount committed to the loan\n",
      "            'funded_amnt_inv',           # amount committed by investors for the loan\n",
      "            'installment',               # monthly payment owed by the borrower\n",
      "           ]"
     ],
     "language": "python",
     "metadata": {},
     "outputs": [],
     "prompt_number": 5
    },
    {
     "cell_type": "markdown",
     "metadata": {},
     "source": [
      "## Skipping observations with missing values\n",
      "\n",
      "Recall from the lectures that one common approach to coping with missing values is to **skip** observations that contain missing values.\n",
      "\n",
      "We run the following code to do so:"
     ]
    },
    {
     "cell_type": "code",
     "collapsed": false,
     "input": [
      "loans, loans_with_na = loans[[target] + features].dropna_split()\n",
      "\n",
      "# Count the number of rows with missing data\n",
      "num_rows_with_na = loans_with_na.num_rows()\n",
      "num_rows = loans.num_rows()\n",
      "print 'Dropping %s observations; keeping %s ' % (num_rows_with_na, num_rows)"
     ],
     "language": "python",
     "metadata": {},
     "outputs": [
      {
       "output_type": "stream",
       "stream": "stdout",
       "text": [
        "Dropping 29 observations; keeping 122578 \n"
       ]
      }
     ],
     "prompt_number": 6
    },
    {
     "cell_type": "markdown",
     "metadata": {},
     "source": [
      "Fortunately, there are not too many missing values. We are retaining most of the data."
     ]
    },
    {
     "cell_type": "heading",
     "level": 2,
     "metadata": {},
     "source": [
      "Make sure the classes are balanced"
     ]
    },
    {
     "cell_type": "markdown",
     "metadata": {},
     "source": [
      "We saw in an earlier assignment that this dataset is also imbalanced. We will undersample the larger class (safe loans) in order to balance out our dataset. We used `seed=1` to make sure everyone gets the same results."
     ]
    },
    {
     "cell_type": "code",
     "collapsed": false,
     "input": [
      "safe_loans_raw = loans[loans[target] == 1]\n",
      "risky_loans_raw = loans[loans[target] == -1]\n",
      "\n",
      "# Undersample the safe loans.\n",
      "percentage = len(risky_loans_raw)/float(len(safe_loans_raw))\n",
      "safe_loans = safe_loans_raw.sample(percentage, seed = 1)\n",
      "risky_loans = risky_loans_raw\n",
      "loans_data = risky_loans.append(safe_loans)\n",
      "\n",
      "print \"Percentage of safe loans                 :\", len(safe_loans) / float(len(loans_data))\n",
      "print \"Percentage of risky loans                :\", len(risky_loans) / float(len(loans_data))\n",
      "print \"Total number of loans in our new dataset :\", len(loans_data)"
     ],
     "language": "python",
     "metadata": {},
     "outputs": [
      {
       "output_type": "stream",
       "stream": "stdout",
       "text": [
        "Percentage of safe loans                 : "
       ]
      },
      {
       "output_type": "stream",
       "stream": "stdout",
       "text": [
        "0.502247166849\n",
        "Percentage of risky loans                : 0.497752833151\n",
        "Total number of loans in our new dataset : 46503\n"
       ]
      }
     ],
     "prompt_number": 7
    },
    {
     "cell_type": "markdown",
     "metadata": {},
     "source": [
      "**Checkpoint:** You should now see that the dataset is balanced (approximately 50-50 safe vs risky loans)."
     ]
    },
    {
     "cell_type": "markdown",
     "metadata": {},
     "source": [
      "**Note:** There are many approaches for dealing with imbalanced data, including some where we modify the learning algorithm. These approaches are beyond the scope of this course, but some of them are reviewed in this [paper](http://ieeexplore.ieee.org/xpl/login.jsp?tp=&arnumber=5128907&url=http%3A%2F%2Fieeexplore.ieee.org%2Fiel5%2F69%2F5173046%2F05128907.pdf%3Farnumber%3D5128907 ). For this assignment, we use the simplest possible approach, where we subsample the overly represented class to get a more balanced dataset. In general, and especially when the data is highly imbalanced, we recommend using more advanced methods."
     ]
    },
    {
     "cell_type": "heading",
     "level": 2,
     "metadata": {},
     "source": [
      "Split data into training and validation sets"
     ]
    },
    {
     "cell_type": "markdown",
     "metadata": {},
     "source": [
      "We split the data into training data and validation data. We used `seed=1` to make sure everyone gets the same results. We will use the validation data to help us select model parameters."
     ]
    },
    {
     "cell_type": "code",
     "collapsed": false,
     "input": [
      "train_data, validation_data = loans_data.random_split(.8, seed=1)"
     ],
     "language": "python",
     "metadata": {},
     "outputs": [],
     "prompt_number": 8
    },
    {
     "cell_type": "heading",
     "level": 1,
     "metadata": {},
     "source": [
      "Gradient boosted tree classifier"
     ]
    },
    {
     "cell_type": "markdown",
     "metadata": {},
     "source": [
      "Gradient boosted trees are a powerful variant of boosting methods; they have been used to win many [Kaggle](https://www.kaggle.com/) competitions, and have been widely used in industry.  We will explore the predictive power of multiple decision trees as opposed to a single decision tree.\n",
      "\n",
      "**Additional reading:** If you are interested in gradient boosted trees, here is some additional reading material:\n",
      "* [GraphLab Create user guide](https://dato.com/learn/userguide/supervised-learning/boosted_trees_classifier.html)\n",
      "* [Advanced material on boosted trees](http://homes.cs.washington.edu/~tqchen/pdf/BoostedTree.pdf)\n",
      "\n",
      "\n",
      "We will now train models to predict `safe_loans` using the features above. In this section, we will experiment with training an ensemble of 5 trees. To cap the ensemble classifier at 5 trees, we call the function with **max_iterations=5** (recall that each iterations corresponds to adding a tree). We set `validation_set=None` to make sure everyone gets the same results."
     ]
    },
    {
     "cell_type": "code",
     "collapsed": false,
     "input": [
      "model_5 = graphlab.boosted_trees_classifier.create(train_data, validation_set=None, \n",
      "        target = target, features = features, max_iterations = 5)"
     ],
     "language": "python",
     "metadata": {},
     "outputs": [
      {
       "output_type": "stream",
       "stream": "stdout",
       "text": [
        "Boosted trees classifier:\n",
        "--------------------------------------------------------\n",
        "Number of examples          : 37219\n",
        "Number of classes           : 2\n",
        "Number of feature columns   : 24\n",
        "Number of unpacked features : 24\n",
        "+-----------+--------------+-------------------+-------------------+\n",
        "| Iteration | Elapsed Time | Training-accuracy | Training-log_loss |\n",
        "+-----------+--------------+-------------------+-------------------+\n",
        "| 1         | 0.061126     | 0.657541          | 0.657139          |\n",
        "| 2         | 0.174734     | 0.656976          | 0.636157          |\n",
        "| 3         | 0.238973     | 0.664983          | 0.623206          |\n",
        "| 4         | 0.301911     | 0.668476          | 0.613783          |\n",
        "| 5         | 0.364332     | 0.673339          | 0.606229          |\n",
        "+-----------+--------------+-------------------+-------------------+\n"
       ]
      }
     ],
     "prompt_number": 9
    },
    {
     "cell_type": "markdown",
     "metadata": {},
     "source": [
      "# Making predictions\n",
      "\n",
      "Just like we did in previous sections, let us consider a few positive and negative examples **from the validation set**. We will do the following:\n",
      "* Predict whether or not a loan is likely to default.\n",
      "* Predict the probability with which the loan is likely to default."
     ]
    },
    {
     "cell_type": "code",
     "collapsed": false,
     "input": [
      "# Select all positive and negative examples.\n",
      "validation_safe_loans = validation_data[validation_data[target] == 1]\n",
      "validation_risky_loans = validation_data[validation_data[target] == -1]\n",
      "\n",
      "# Select 2 examples from the validation set for positive & negative loans\n",
      "sample_validation_data_risky = validation_risky_loans[0:2]\n",
      "sample_validation_data_safe = validation_safe_loans[0:2]\n",
      "\n",
      "# Append the 4 examples into a single dataset\n",
      "sample_validation_data = sample_validation_data_safe.append(sample_validation_data_risky)\n",
      "sample_validation_data"
     ],
     "language": "python",
     "metadata": {},
     "outputs": [
      {
       "html": [
        "<div style=\"max-height:1000px;max-width:1500px;overflow:auto;\"><table frame=\"box\" rules=\"cols\">\n",
        "    <tr>\n",
        "        <th style=\"padding-left: 1em; padding-right: 1em; text-align: center\">safe_loans</th>\n",
        "        <th style=\"padding-left: 1em; padding-right: 1em; text-align: center\">grade</th>\n",
        "        <th style=\"padding-left: 1em; padding-right: 1em; text-align: center\">sub_grade_num</th>\n",
        "        <th style=\"padding-left: 1em; padding-right: 1em; text-align: center\">short_emp</th>\n",
        "        <th style=\"padding-left: 1em; padding-right: 1em; text-align: center\">emp_length_num</th>\n",
        "        <th style=\"padding-left: 1em; padding-right: 1em; text-align: center\">home_ownership</th>\n",
        "        <th style=\"padding-left: 1em; padding-right: 1em; text-align: center\">dti</th>\n",
        "        <th style=\"padding-left: 1em; padding-right: 1em; text-align: center\">purpose</th>\n",
        "    </tr>\n",
        "    <tr>\n",
        "        <td style=\"padding-left: 1em; padding-right: 1em; text-align: center; vertical-align: top\">1</td>\n",
        "        <td style=\"padding-left: 1em; padding-right: 1em; text-align: center; vertical-align: top\">B</td>\n",
        "        <td style=\"padding-left: 1em; padding-right: 1em; text-align: center; vertical-align: top\">0.2</td>\n",
        "        <td style=\"padding-left: 1em; padding-right: 1em; text-align: center; vertical-align: top\">0</td>\n",
        "        <td style=\"padding-left: 1em; padding-right: 1em; text-align: center; vertical-align: top\">3</td>\n",
        "        <td style=\"padding-left: 1em; padding-right: 1em; text-align: center; vertical-align: top\">MORTGAGE</td>\n",
        "        <td style=\"padding-left: 1em; padding-right: 1em; text-align: center; vertical-align: top\">29.44</td>\n",
        "        <td style=\"padding-left: 1em; padding-right: 1em; text-align: center; vertical-align: top\">credit_card</td>\n",
        "    </tr>\n",
        "    <tr>\n",
        "        <td style=\"padding-left: 1em; padding-right: 1em; text-align: center; vertical-align: top\">1</td>\n",
        "        <td style=\"padding-left: 1em; padding-right: 1em; text-align: center; vertical-align: top\">B</td>\n",
        "        <td style=\"padding-left: 1em; padding-right: 1em; text-align: center; vertical-align: top\">0.6</td>\n",
        "        <td style=\"padding-left: 1em; padding-right: 1em; text-align: center; vertical-align: top\">1</td>\n",
        "        <td style=\"padding-left: 1em; padding-right: 1em; text-align: center; vertical-align: top\">1</td>\n",
        "        <td style=\"padding-left: 1em; padding-right: 1em; text-align: center; vertical-align: top\">RENT</td>\n",
        "        <td style=\"padding-left: 1em; padding-right: 1em; text-align: center; vertical-align: top\">12.19</td>\n",
        "        <td style=\"padding-left: 1em; padding-right: 1em; text-align: center; vertical-align: top\">credit_card</td>\n",
        "    </tr>\n",
        "    <tr>\n",
        "        <td style=\"padding-left: 1em; padding-right: 1em; text-align: center; vertical-align: top\">-1</td>\n",
        "        <td style=\"padding-left: 1em; padding-right: 1em; text-align: center; vertical-align: top\">D</td>\n",
        "        <td style=\"padding-left: 1em; padding-right: 1em; text-align: center; vertical-align: top\">0.4</td>\n",
        "        <td style=\"padding-left: 1em; padding-right: 1em; text-align: center; vertical-align: top\">0</td>\n",
        "        <td style=\"padding-left: 1em; padding-right: 1em; text-align: center; vertical-align: top\">3</td>\n",
        "        <td style=\"padding-left: 1em; padding-right: 1em; text-align: center; vertical-align: top\">RENT</td>\n",
        "        <td style=\"padding-left: 1em; padding-right: 1em; text-align: center; vertical-align: top\">13.97</td>\n",
        "        <td style=\"padding-left: 1em; padding-right: 1em; text-align: center; vertical-align: top\">other</td>\n",
        "    </tr>\n",
        "    <tr>\n",
        "        <td style=\"padding-left: 1em; padding-right: 1em; text-align: center; vertical-align: top\">-1</td>\n",
        "        <td style=\"padding-left: 1em; padding-right: 1em; text-align: center; vertical-align: top\">A</td>\n",
        "        <td style=\"padding-left: 1em; padding-right: 1em; text-align: center; vertical-align: top\">1.0</td>\n",
        "        <td style=\"padding-left: 1em; padding-right: 1em; text-align: center; vertical-align: top\">0</td>\n",
        "        <td style=\"padding-left: 1em; padding-right: 1em; text-align: center; vertical-align: top\">11</td>\n",
        "        <td style=\"padding-left: 1em; padding-right: 1em; text-align: center; vertical-align: top\">MORTGAGE</td>\n",
        "        <td style=\"padding-left: 1em; padding-right: 1em; text-align: center; vertical-align: top\">16.33</td>\n",
        "        <td style=\"padding-left: 1em; padding-right: 1em; text-align: center; vertical-align: top\">debt_consolidation</td>\n",
        "    </tr>\n",
        "</table>\n",
        "<table frame=\"box\" rules=\"cols\">\n",
        "    <tr>\n",
        "        <th style=\"padding-left: 1em; padding-right: 1em; text-align: center\">payment_inc_ratio</th>\n",
        "        <th style=\"padding-left: 1em; padding-right: 1em; text-align: center\">delinq_2yrs</th>\n",
        "        <th style=\"padding-left: 1em; padding-right: 1em; text-align: center\">delinq_2yrs_zero</th>\n",
        "        <th style=\"padding-left: 1em; padding-right: 1em; text-align: center\">inq_last_6mths</th>\n",
        "        <th style=\"padding-left: 1em; padding-right: 1em; text-align: center\">last_delinq_none</th>\n",
        "        <th style=\"padding-left: 1em; padding-right: 1em; text-align: center\">last_major_derog_none</th>\n",
        "        <th style=\"padding-left: 1em; padding-right: 1em; text-align: center\">open_acc</th>\n",
        "    </tr>\n",
        "    <tr>\n",
        "        <td style=\"padding-left: 1em; padding-right: 1em; text-align: center; vertical-align: top\">6.30496</td>\n",
        "        <td style=\"padding-left: 1em; padding-right: 1em; text-align: center; vertical-align: top\">0</td>\n",
        "        <td style=\"padding-left: 1em; padding-right: 1em; text-align: center; vertical-align: top\">1</td>\n",
        "        <td style=\"padding-left: 1em; padding-right: 1em; text-align: center; vertical-align: top\">0</td>\n",
        "        <td style=\"padding-left: 1em; padding-right: 1em; text-align: center; vertical-align: top\">1</td>\n",
        "        <td style=\"padding-left: 1em; padding-right: 1em; text-align: center; vertical-align: top\">1</td>\n",
        "        <td style=\"padding-left: 1em; padding-right: 1em; text-align: center; vertical-align: top\">8</td>\n",
        "    </tr>\n",
        "    <tr>\n",
        "        <td style=\"padding-left: 1em; padding-right: 1em; text-align: center; vertical-align: top\">13.4952</td>\n",
        "        <td style=\"padding-left: 1em; padding-right: 1em; text-align: center; vertical-align: top\">0</td>\n",
        "        <td style=\"padding-left: 1em; padding-right: 1em; text-align: center; vertical-align: top\">1</td>\n",
        "        <td style=\"padding-left: 1em; padding-right: 1em; text-align: center; vertical-align: top\">0</td>\n",
        "        <td style=\"padding-left: 1em; padding-right: 1em; text-align: center; vertical-align: top\">1</td>\n",
        "        <td style=\"padding-left: 1em; padding-right: 1em; text-align: center; vertical-align: top\">1</td>\n",
        "        <td style=\"padding-left: 1em; padding-right: 1em; text-align: center; vertical-align: top\">8</td>\n",
        "    </tr>\n",
        "    <tr>\n",
        "        <td style=\"padding-left: 1em; padding-right: 1em; text-align: center; vertical-align: top\">2.96736</td>\n",
        "        <td style=\"padding-left: 1em; padding-right: 1em; text-align: center; vertical-align: top\">3</td>\n",
        "        <td style=\"padding-left: 1em; padding-right: 1em; text-align: center; vertical-align: top\">0</td>\n",
        "        <td style=\"padding-left: 1em; padding-right: 1em; text-align: center; vertical-align: top\">0</td>\n",
        "        <td style=\"padding-left: 1em; padding-right: 1em; text-align: center; vertical-align: top\">0</td>\n",
        "        <td style=\"padding-left: 1em; padding-right: 1em; text-align: center; vertical-align: top\">1</td>\n",
        "        <td style=\"padding-left: 1em; padding-right: 1em; text-align: center; vertical-align: top\">14</td>\n",
        "    </tr>\n",
        "    <tr>\n",
        "        <td style=\"padding-left: 1em; padding-right: 1em; text-align: center; vertical-align: top\">1.90524</td>\n",
        "        <td style=\"padding-left: 1em; padding-right: 1em; text-align: center; vertical-align: top\">0</td>\n",
        "        <td style=\"padding-left: 1em; padding-right: 1em; text-align: center; vertical-align: top\">1</td>\n",
        "        <td style=\"padding-left: 1em; padding-right: 1em; text-align: center; vertical-align: top\">0</td>\n",
        "        <td style=\"padding-left: 1em; padding-right: 1em; text-align: center; vertical-align: top\">1</td>\n",
        "        <td style=\"padding-left: 1em; padding-right: 1em; text-align: center; vertical-align: top\">1</td>\n",
        "        <td style=\"padding-left: 1em; padding-right: 1em; text-align: center; vertical-align: top\">17</td>\n",
        "    </tr>\n",
        "</table>\n",
        "<table frame=\"box\" rules=\"cols\">\n",
        "    <tr>\n",
        "        <th style=\"padding-left: 1em; padding-right: 1em; text-align: center\">pub_rec</th>\n",
        "        <th style=\"padding-left: 1em; padding-right: 1em; text-align: center\">pub_rec_zero</th>\n",
        "        <th style=\"padding-left: 1em; padding-right: 1em; text-align: center\">revol_util</th>\n",
        "        <th style=\"padding-left: 1em; padding-right: 1em; text-align: center\">total_rec_late_fee</th>\n",
        "        <th style=\"padding-left: 1em; padding-right: 1em; text-align: center\">int_rate</th>\n",
        "        <th style=\"padding-left: 1em; padding-right: 1em; text-align: center\">total_rec_int</th>\n",
        "        <th style=\"padding-left: 1em; padding-right: 1em; text-align: center\">annual_inc</th>\n",
        "        <th style=\"padding-left: 1em; padding-right: 1em; text-align: center\">funded_amnt</th>\n",
        "        <th style=\"padding-left: 1em; padding-right: 1em; text-align: center\">funded_amnt_inv</th>\n",
        "    </tr>\n",
        "    <tr>\n",
        "        <td style=\"padding-left: 1em; padding-right: 1em; text-align: center; vertical-align: top\">0</td>\n",
        "        <td style=\"padding-left: 1em; padding-right: 1em; text-align: center; vertical-align: top\">1</td>\n",
        "        <td style=\"padding-left: 1em; padding-right: 1em; text-align: center; vertical-align: top\">93.9</td>\n",
        "        <td style=\"padding-left: 1em; padding-right: 1em; text-align: center; vertical-align: top\">0.0</td>\n",
        "        <td style=\"padding-left: 1em; padding-right: 1em; text-align: center; vertical-align: top\">9.91</td>\n",
        "        <td style=\"padding-left: 1em; padding-right: 1em; text-align: center; vertical-align: top\">823.48</td>\n",
        "        <td style=\"padding-left: 1em; padding-right: 1em; text-align: center; vertical-align: top\">92000</td>\n",
        "        <td style=\"padding-left: 1em; padding-right: 1em; text-align: center; vertical-align: top\">15000</td>\n",
        "        <td style=\"padding-left: 1em; padding-right: 1em; text-align: center; vertical-align: top\">15000</td>\n",
        "    </tr>\n",
        "    <tr>\n",
        "        <td style=\"padding-left: 1em; padding-right: 1em; text-align: center; vertical-align: top\">0</td>\n",
        "        <td style=\"padding-left: 1em; padding-right: 1em; text-align: center; vertical-align: top\">1</td>\n",
        "        <td style=\"padding-left: 1em; padding-right: 1em; text-align: center; vertical-align: top\">59.1</td>\n",
        "        <td style=\"padding-left: 1em; padding-right: 1em; text-align: center; vertical-align: top\">0.0</td>\n",
        "        <td style=\"padding-left: 1em; padding-right: 1em; text-align: center; vertical-align: top\">11.71</td>\n",
        "        <td style=\"padding-left: 1em; padding-right: 1em; text-align: center; vertical-align: top\">1622.21</td>\n",
        "        <td style=\"padding-left: 1em; padding-right: 1em; text-align: center; vertical-align: top\">25000</td>\n",
        "        <td style=\"padding-left: 1em; padding-right: 1em; text-align: center; vertical-align: top\">8500</td>\n",
        "        <td style=\"padding-left: 1em; padding-right: 1em; text-align: center; vertical-align: top\">8500</td>\n",
        "    </tr>\n",
        "    <tr>\n",
        "        <td style=\"padding-left: 1em; padding-right: 1em; text-align: center; vertical-align: top\">0</td>\n",
        "        <td style=\"padding-left: 1em; padding-right: 1em; text-align: center; vertical-align: top\">1</td>\n",
        "        <td style=\"padding-left: 1em; padding-right: 1em; text-align: center; vertical-align: top\">59.5</td>\n",
        "        <td style=\"padding-left: 1em; padding-right: 1em; text-align: center; vertical-align: top\">0.0</td>\n",
        "        <td style=\"padding-left: 1em; padding-right: 1em; text-align: center; vertical-align: top\">16.77</td>\n",
        "        <td style=\"padding-left: 1em; padding-right: 1em; text-align: center; vertical-align: top\">719.11</td>\n",
        "        <td style=\"padding-left: 1em; padding-right: 1em; text-align: center; vertical-align: top\">50004</td>\n",
        "        <td style=\"padding-left: 1em; padding-right: 1em; text-align: center; vertical-align: top\">5000</td>\n",
        "        <td style=\"padding-left: 1em; padding-right: 1em; text-align: center; vertical-align: top\">5000</td>\n",
        "    </tr>\n",
        "    <tr>\n",
        "        <td style=\"padding-left: 1em; padding-right: 1em; text-align: center; vertical-align: top\">0</td>\n",
        "        <td style=\"padding-left: 1em; padding-right: 1em; text-align: center; vertical-align: top\">1</td>\n",
        "        <td style=\"padding-left: 1em; padding-right: 1em; text-align: center; vertical-align: top\">62.1</td>\n",
        "        <td style=\"padding-left: 1em; padding-right: 1em; text-align: center; vertical-align: top\">0.0</td>\n",
        "        <td style=\"padding-left: 1em; padding-right: 1em; text-align: center; vertical-align: top\">8.9</td>\n",
        "        <td style=\"padding-left: 1em; padding-right: 1em; text-align: center; vertical-align: top\">696.99</td>\n",
        "        <td style=\"padding-left: 1em; padding-right: 1em; text-align: center; vertical-align: top\">100000</td>\n",
        "        <td style=\"padding-left: 1em; padding-right: 1em; text-align: center; vertical-align: top\">5000</td>\n",
        "        <td style=\"padding-left: 1em; padding-right: 1em; text-align: center; vertical-align: top\">5000</td>\n",
        "    </tr>\n",
        "</table>\n",
        "<table frame=\"box\" rules=\"cols\">\n",
        "    <tr>\n",
        "        <th style=\"padding-left: 1em; padding-right: 1em; text-align: center\">installment</th>\n",
        "    </tr>\n",
        "    <tr>\n",
        "        <td style=\"padding-left: 1em; padding-right: 1em; text-align: center; vertical-align: top\">483.38</td>\n",
        "    </tr>\n",
        "    <tr>\n",
        "        <td style=\"padding-left: 1em; padding-right: 1em; text-align: center; vertical-align: top\">281.15</td>\n",
        "    </tr>\n",
        "    <tr>\n",
        "        <td style=\"padding-left: 1em; padding-right: 1em; text-align: center; vertical-align: top\">123.65</td>\n",
        "    </tr>\n",
        "    <tr>\n",
        "        <td style=\"padding-left: 1em; padding-right: 1em; text-align: center; vertical-align: top\">158.77</td>\n",
        "    </tr>\n",
        "</table>\n",
        "[4 rows x 25 columns]<br/>\n",
        "</div>"
       ],
       "metadata": {},
       "output_type": "pyout",
       "prompt_number": 10,
       "text": [
        "Columns:\n",
        "\tsafe_loans\tint\n",
        "\tgrade\tstr\n",
        "\tsub_grade_num\tfloat\n",
        "\tshort_emp\tint\n",
        "\temp_length_num\tint\n",
        "\thome_ownership\tstr\n",
        "\tdti\tfloat\n",
        "\tpurpose\tstr\n",
        "\tpayment_inc_ratio\tfloat\n",
        "\tdelinq_2yrs\tint\n",
        "\tdelinq_2yrs_zero\tint\n",
        "\tinq_last_6mths\tint\n",
        "\tlast_delinq_none\tint\n",
        "\tlast_major_derog_none\tint\n",
        "\topen_acc\tint\n",
        "\tpub_rec\tint\n",
        "\tpub_rec_zero\tint\n",
        "\trevol_util\tfloat\n",
        "\ttotal_rec_late_fee\tfloat\n",
        "\tint_rate\tfloat\n",
        "\ttotal_rec_int\tfloat\n",
        "\tannual_inc\tint\n",
        "\tfunded_amnt\tint\n",
        "\tfunded_amnt_inv\tint\n",
        "\tinstallment\tfloat\n",
        "\n",
        "Rows: 4\n",
        "\n",
        "Data:\n",
        "+------------+-------+---------------+-----------+----------------+----------------+\n",
        "| safe_loans | grade | sub_grade_num | short_emp | emp_length_num | home_ownership |\n",
        "+------------+-------+---------------+-----------+----------------+----------------+\n",
        "|     1      |   B   |      0.2      |     0     |       3        |    MORTGAGE    |\n",
        "|     1      |   B   |      0.6      |     1     |       1        |      RENT      |\n",
        "|     -1     |   D   |      0.4      |     0     |       3        |      RENT      |\n",
        "|     -1     |   A   |      1.0      |     0     |       11       |    MORTGAGE    |\n",
        "+------------+-------+---------------+-----------+----------------+----------------+\n",
        "+-------+--------------------+-------------------+-------------+------------------+\n",
        "|  dti  |      purpose       | payment_inc_ratio | delinq_2yrs | delinq_2yrs_zero |\n",
        "+-------+--------------------+-------------------+-------------+------------------+\n",
        "| 29.44 |    credit_card     |      6.30496      |      0      |        1         |\n",
        "| 12.19 |    credit_card     |      13.4952      |      0      |        1         |\n",
        "| 13.97 |       other        |      2.96736      |      3      |        0         |\n",
        "| 16.33 | debt_consolidation |      1.90524      |      0      |        1         |\n",
        "+-------+--------------------+-------------------+-------------+------------------+\n",
        "+----------------+------------------+-----------------------+----------+---------+\n",
        "| inq_last_6mths | last_delinq_none | last_major_derog_none | open_acc | pub_rec |\n",
        "+----------------+------------------+-----------------------+----------+---------+\n",
        "|       0        |        1         |           1           |    8     |    0    |\n",
        "|       0        |        1         |           1           |    8     |    0    |\n",
        "|       0        |        0         |           1           |    14    |    0    |\n",
        "|       0        |        1         |           1           |    17    |    0    |\n",
        "+----------------+------------------+-----------------------+----------+---------+\n",
        "+--------------+------------+--------------------+----------+-----+\n",
        "| pub_rec_zero | revol_util | total_rec_late_fee | int_rate | ... |\n",
        "+--------------+------------+--------------------+----------+-----+\n",
        "|      1       |    93.9    |        0.0         |   9.91   | ... |\n",
        "|      1       |    59.1    |        0.0         |  11.71   | ... |\n",
        "|      1       |    59.5    |        0.0         |  16.77   | ... |\n",
        "|      1       |    62.1    |        0.0         |   8.9    | ... |\n",
        "+--------------+------------+--------------------+----------+-----+\n",
        "[4 rows x 25 columns]"
       ]
      }
     ],
     "prompt_number": 10
    },
    {
     "cell_type": "markdown",
     "metadata": {},
     "source": [
      "### Predicting on sample validation data\n",
      "\n",
      "For each row in the **sample_validation_data**, write code to make **model_5** predict whether or not the loan is classified as a **safe loan**.\n",
      "\n",
      "**Hint:** Use the `predict` method in `model_5` for this."
     ]
    },
    {
     "cell_type": "code",
     "collapsed": false,
     "input": [
      "model_5.predict(sample_validation_data)"
     ],
     "language": "python",
     "metadata": {},
     "outputs": [
      {
       "metadata": {},
       "output_type": "pyout",
       "prompt_number": 15,
       "text": [
        "dtype: int\n",
        "Rows: 4\n",
        "[1, 1, -1, 1]"
       ]
      }
     ],
     "prompt_number": 15
    },
    {
     "cell_type": "markdown",
     "metadata": {},
     "source": [
      "**Quiz question:** What percentage of the predictions on `sample_validation_data` did `model_5` get correct?\n",
      "\n",
      "### Prediction probabilities\n",
      "\n",
      "For each row in the **sample_validation_data**, what is the probability (according **model_5**) of a loan being classified as **safe**? \n",
      "\n",
      "**Hint:** Set `output_type='probability'` to make **probability** predictions using `model_5` on `sample_validation_data`:"
     ]
    },
    {
     "cell_type": "code",
     "collapsed": false,
     "input": [
      "sample_validation_data['safe_loans']"
     ],
     "language": "python",
     "metadata": {},
     "outputs": [
      {
       "metadata": {},
       "output_type": "pyout",
       "prompt_number": 16,
       "text": [
        "dtype: int\n",
        "Rows: 4\n",
        "[1, 1, -1, -1]"
       ]
      }
     ],
     "prompt_number": 16
    },
    {
     "cell_type": "markdown",
     "metadata": {},
     "source": [
      "**Quiz Question:** According to **model_5**, which loan is the least likely to be a safe loan?\n",
      "\n",
      "**Checkpoint:** Can you verify that for all the predictions with `probability >= 0.5`, the model predicted the label **+1**?"
     ]
    },
    {
     "cell_type": "code",
     "collapsed": false,
     "input": [
      "model_5.predict(sample_validation_data,output_type='probability')"
     ],
     "language": "python",
     "metadata": {},
     "outputs": [
      {
       "metadata": {},
       "output_type": "pyout",
       "prompt_number": 17,
       "text": [
        "dtype: float\n",
        "Rows: 4\n",
        "[0.7045905590057373, 0.5963408946990967, 0.44925159215927124, 0.6119099855422974]"
       ]
      }
     ],
     "prompt_number": 17
    },
    {
     "cell_type": "heading",
     "level": 2,
     "metadata": {
      "collapsed": true
     },
     "source": [
      "Evaluating the model on the validation data"
     ]
    },
    {
     "cell_type": "markdown",
     "metadata": {},
     "source": [
      "Recall that the accuracy is defined as follows:\n",
      "$$\n",
      "\\mbox{accuracy} = \\frac{\\mbox{# correctly classified examples}}{\\mbox{# total examples}}\n",
      "$$\n",
      "\n",
      "Evaluate the accuracy of the **model_5** on the **validation_data**.\n",
      "\n",
      "**Hint**: Use the `.evaluate()` method in the model."
     ]
    },
    {
     "cell_type": "code",
     "collapsed": false,
     "input": [
      "model_5.evaluate(validation_data)"
     ],
     "language": "python",
     "metadata": {},
     "outputs": [
      {
       "metadata": {},
       "output_type": "pyout",
       "prompt_number": 19,
       "text": [
        "{'accuracy': 0.66813873330461,\n",
        " 'auc': 0.7247215702188436,\n",
        " 'confusion_matrix': Columns:\n",
        " \ttarget_label\tint\n",
        " \tpredicted_label\tint\n",
        " \tcount\tint\n",
        " \n",
        " Rows: 4\n",
        " \n",
        " Data:\n",
        " +--------------+-----------------+-------+\n",
        " | target_label | predicted_label | count |\n",
        " +--------------+-----------------+-------+\n",
        " |      -1      |        1        |  1618 |\n",
        " |      -1      |        -1       |  3054 |\n",
        " |      1       |        -1       |  1463 |\n",
        " |      1       |        1        |  3149 |\n",
        " +--------------+-----------------+-------+\n",
        " [4 rows x 3 columns],\n",
        " 'f1_score': 0.6715001599317625,\n",
        " 'log_loss': 0.6176131769648966,\n",
        " 'precision': 0.6605831760016782,\n",
        " 'recall': 0.6827840416305291,\n",
        " 'roc_curve': Columns:\n",
        " \tthreshold\tfloat\n",
        " \tfpr\tfloat\n",
        " \ttpr\tfloat\n",
        " \tp\tint\n",
        " \tn\tint\n",
        " \n",
        " Rows: 100001\n",
        " \n",
        " Data:\n",
        " +-----------+-----+-----+------+------+\n",
        " | threshold | fpr | tpr |  p   |  n   |\n",
        " +-----------+-----+-----+------+------+\n",
        " |    0.0    | 1.0 | 1.0 | 4612 | 4672 |\n",
        " |   1e-05   | 1.0 | 1.0 | 4612 | 4672 |\n",
        " |   2e-05   | 1.0 | 1.0 | 4612 | 4672 |\n",
        " |   3e-05   | 1.0 | 1.0 | 4612 | 4672 |\n",
        " |   4e-05   | 1.0 | 1.0 | 4612 | 4672 |\n",
        " |   5e-05   | 1.0 | 1.0 | 4612 | 4672 |\n",
        " |   6e-05   | 1.0 | 1.0 | 4612 | 4672 |\n",
        " |   7e-05   | 1.0 | 1.0 | 4612 | 4672 |\n",
        " |   8e-05   | 1.0 | 1.0 | 4612 | 4672 |\n",
        " |   9e-05   | 1.0 | 1.0 | 4612 | 4672 |\n",
        " +-----------+-----+-----+------+------+\n",
        " [100001 rows x 5 columns]\n",
        " Note: Only the head of the SFrame is printed.\n",
        " You can use print_rows(num_rows=m, num_columns=n) to print more rows and columns.}"
       ]
      }
     ],
     "prompt_number": 19
    },
    {
     "cell_type": "markdown",
     "metadata": {},
     "source": [
      "Calculate the number of **false positives** made by the model."
     ]
    },
    {
     "cell_type": "code",
     "collapsed": false,
     "input": [
      "false_positives = sum(model_5.predict(validation_risky_loans)==+1)\n",
      "print false_positives"
     ],
     "language": "python",
     "metadata": {},
     "outputs": [
      {
       "output_type": "stream",
       "stream": "stdout",
       "text": [
        "1618\n"
       ]
      }
     ],
     "prompt_number": 21
    },
    {
     "cell_type": "markdown",
     "metadata": {},
     "source": [
      "**Quiz question**: What is the number of **false positives** on the **validation_data**?"
     ]
    },
    {
     "cell_type": "markdown",
     "metadata": {},
     "source": [
      "Calculate the number of **false negatives** made by the model."
     ]
    },
    {
     "cell_type": "code",
     "collapsed": false,
     "input": [
      "false_negatives = sum(model_5.predict(validation_safe_loans)==-1)\n",
      "print false_negatives"
     ],
     "language": "python",
     "metadata": {},
     "outputs": [
      {
       "output_type": "stream",
       "stream": "stdout",
       "text": [
        "1463\n"
       ]
      }
     ],
     "prompt_number": 22
    },
    {
     "cell_type": "markdown",
     "metadata": {},
     "source": [
      "## Comparison with decision trees\n",
      "\n",
      "In the earlier assignment, we saw that the prediction accuracy of the decision trees was around **0.64** (rounded). In this assignment, we saw that **model_5** has an accuracy of **0.67** (rounded).\n",
      "\n",
      "Here, we quantify the benefit of the extra 3% increase in accuracy of **model_5** in comparison with a single decision tree from the original decision tree assignment.\n",
      "\n",
      "As we explored in the earlier assignment, we calculated the cost of the mistakes made by the model. We again consider the same costs as follows:\n",
      "\n",
      "* **False negatives**: Assume a cost of \\$10,000 per false negative.\n",
      "* **False positives**: Assume a cost of \\$20,000 per false positive.\n",
      "\n",
      "Assume that the number of false positives and false negatives for the learned decision tree was\n",
      "\n",
      "* **False negatives**: 1936\n",
      "* **False positives**: 1503\n",
      "\n",
      "Using the costs defined above and the number of false positives and false negatives for the decision tree, we can calculate the total cost of the mistakes made by the decision tree model as follows:\n",
      "\n",
      "```\n",
      "cost = $10,000 * 1936  + $20,000 * 1503 = $49,420,000\n",
      "```\n",
      "\n",
      "The total cost of the mistakes of the model is $49.42M. That is a **lot of money**!.\n",
      "\n",
      "**Quiz Question**: Using the same costs of the false positives and false negatives, what is the cost of the mistakes made by the boosted tree model (**model_5**) as evaluated on the **validation_set**?"
     ]
    },
    {
     "cell_type": "code",
     "collapsed": false,
     "input": [
      "10000*false_negatives+20000*false_positives"
     ],
     "language": "python",
     "metadata": {},
     "outputs": [
      {
       "metadata": {},
       "output_type": "pyout",
       "prompt_number": 23,
       "text": [
        "46990000"
       ]
      }
     ],
     "prompt_number": 23
    },
    {
     "cell_type": "markdown",
     "metadata": {},
     "source": [
      "**Reminder**: Compare the cost of the mistakes made by the boosted trees model with the decision tree model. The extra 3% improvement in prediction accuracy can translate to several million dollars!  And, it was so easy to get by simply boosting our decision trees."
     ]
    },
    {
     "cell_type": "markdown",
     "metadata": {},
     "source": [
      "## Most positive & negative loans.\n",
      "\n",
      "In this section, we will find the loans that are most likely to be predicted **safe**. We can do this in a few steps:\n",
      "\n",
      "* **Step 1**: Use the **model_5** (the model with 5 trees) and make **probability predictions** for all the loans in the **validation_data**.\n",
      "* **Step 2**: Similar to what we did in the very first assignment, add the probability predictions as a column called **predictions** into the validation_data.\n",
      "* **Step 3**: Sort the data (in descreasing order) by the probability predictions.\n",
      "\n",
      "Start here with **Step 1** & **Step 2**. Make predictions using **model_5** for examples in the **validation_data**. Use `output_type = probability`."
     ]
    },
    {
     "cell_type": "code",
     "collapsed": false,
     "input": [
      "validation_data[\"predictions\"] = model_5.predict(validation_data, output_type='probability')"
     ],
     "language": "python",
     "metadata": {},
     "outputs": [],
     "prompt_number": 24
    },
    {
     "cell_type": "markdown",
     "metadata": {},
     "source": [
      "**Checkpoint:** For each row, the probabilities should be a number in the range **[0, 1]**. We have provided a simple check here to make sure your answers are correct."
     ]
    },
    {
     "cell_type": "code",
     "collapsed": false,
     "input": [
      "print \"Your loans      : %s\\n\" % validation_data['predictions'].head(4)\n",
      "print \"Expected answer : %s\" % [0.4492515948736132, 0.6119100103640573,\n",
      "                                0.3835981314851436, 0.3693306705994325]"
     ],
     "language": "python",
     "metadata": {},
     "outputs": [
      {
       "output_type": "stream",
       "stream": "stdout",
       "text": [
        "Your loans      : [0.44925159215927124, 0.6119099855422974, 0.38359811902046204, 0.3693307042121887]\n",
        "\n",
        "Expected answer : [0.4492515948736132, 0.6119100103640573, 0.3835981314851436, 0.3693306705994325]\n"
       ]
      }
     ],
     "prompt_number": 25
    },
    {
     "cell_type": "markdown",
     "metadata": {},
     "source": [
      "Now, we are ready to go to **Step 3**. You can now use the `prediction` column to sort the loans in **validation_data** (in descending order) by prediction probability. Find the top 5 loans with the highest probability of being predicted as a **safe loan**."
     ]
    },
    {
     "cell_type": "code",
     "collapsed": false,
     "input": [
      "validation_data.sort(\"predictions\",0)['grade'].head(5)"
     ],
     "language": "python",
     "metadata": {},
     "outputs": [
      {
       "metadata": {},
       "output_type": "pyout",
       "prompt_number": 26,
       "text": [
        "dtype: str\n",
        "Rows: 5\n",
        "['A', 'A', 'A', 'A', 'A']"
       ]
      }
     ],
     "prompt_number": 26
    },
    {
     "cell_type": "markdown",
     "metadata": {},
     "source": [
      "** Quiz question**: What grades are the top 5 loans?\n",
      "\n",
      "Let us repeat this excercise to find the top 5 loans (in the **validation_data**) with the **lowest probability** of being predicted as a **safe loan**:"
     ]
    },
    {
     "cell_type": "code",
     "collapsed": false,
     "input": [
      "validation_data.sort(\"predictions\",0)['grade'].tail(5)"
     ],
     "language": "python",
     "metadata": {},
     "outputs": [
      {
       "metadata": {},
       "output_type": "pyout",
       "prompt_number": 27,
       "text": [
        "dtype: str\n",
        "Rows: 5\n",
        "['B', 'C', 'D', 'C', 'C']"
       ]
      }
     ],
     "prompt_number": 27
    },
    {
     "cell_type": "markdown",
     "metadata": {},
     "source": [
      "**Checkpoint:** You should expect to see 5 loans with the grade ['**D**', '**C**', '**C**', '**C**', '**B**']."
     ]
    },
    {
     "cell_type": "heading",
     "level": 2,
     "metadata": {},
     "source": [
      "Effect of adding more trees"
     ]
    },
    {
     "cell_type": "markdown",
     "metadata": {},
     "source": [
      "In this assignment, we will train 5 different ensemble classifiers in the form of gradient boosted trees. We will train models with 10, 50, 100, 200, and 500 trees.  We use the **max_iterations** parameter in the boosted tree module. \n",
      "\n",
      "Let's get sarted with a model with **max_iterations = 10**:"
     ]
    },
    {
     "cell_type": "code",
     "collapsed": false,
     "input": [
      "model_10 = graphlab.boosted_trees_classifier.create(train_data, validation_set=None, \n",
      "        target = target, features = features, max_iterations = 10, verbose=False)"
     ],
     "language": "python",
     "metadata": {},
     "outputs": [],
     "prompt_number": 28
    },
    {
     "cell_type": "markdown",
     "metadata": {},
     "source": [
      "Now, train 4 models with **max_iterations** to be:\n",
      "* `max_iterations = 50`, \n",
      "* `max_iterations = 100`\n",
      "* `max_iterations = 200`\n",
      "* `max_iterations = 500`. \n",
      "\n",
      "Let us call these models **model_50**, **model_100**, **model_200**, and **model_500**. You can pass in `verbose=False` in order to suppress the printed output.\n",
      "\n",
      "**Warning:** This could take a couple of minutes to run."
     ]
    },
    {
     "cell_type": "code",
     "collapsed": false,
     "input": [
      "model_50 = graphlab.boosted_trees_classifier.create(train_data, validation_set=None, \n",
      "        target = target, features = features, max_iterations = 50, verbose=False)\n",
      "model_100 = graphlab.boosted_trees_classifier.create(train_data, validation_set=None, \n",
      "        target = target, features = features, max_iterations = 100, verbose=False)\n",
      "model_200 = graphlab.boosted_trees_classifier.create(train_data, validation_set=None, \n",
      "        target = target, features = features, max_iterations = 200, verbose=False)\n",
      "model_500 = graphlab.boosted_trees_classifier.create(train_data, validation_set=None, \n",
      "        target = target, features = features, max_iterations = 500, verbose=False)"
     ],
     "language": "python",
     "metadata": {},
     "outputs": [],
     "prompt_number": 29
    },
    {
     "cell_type": "heading",
     "level": 2,
     "metadata": {},
     "source": [
      "Compare accuracy on entire validation set"
     ]
    },
    {
     "cell_type": "markdown",
     "metadata": {},
     "source": [
      "Now we will compare the predicitve accuracy of our models on the validation set. Evaluate the **accuracy** of the 10, 50, 100, 200, and 500 tree models on the **validation_data**. Use the `.evaluate` method."
     ]
    },
    {
     "cell_type": "code",
     "collapsed": false,
     "input": [
      "print model_10.evaluate(validation_data)['accuracy']\n",
      "print model_50.evaluate(validation_data)['accuracy']\n",
      "print model_100.evaluate(validation_data)['accuracy']\n",
      "print model_200.evaluate(validation_data)['accuracy']"
     ],
     "language": "python",
     "metadata": {},
     "outputs": [
      {
       "output_type": "stream",
       "stream": "stdout",
       "text": [
        "0.672770357604\n",
        "0.690758293839"
       ]
      },
      {
       "output_type": "stream",
       "stream": "stdout",
       "text": [
        "\n",
        "0.691727703576"
       ]
      },
      {
       "output_type": "stream",
       "stream": "stdout",
       "text": [
        "\n",
        "0.684510986644"
       ]
      },
      {
       "output_type": "stream",
       "stream": "stdout",
       "text": [
        "\n"
       ]
      }
     ],
     "prompt_number": 32
    },
    {
     "cell_type": "markdown",
     "metadata": {},
     "source": [
      "**Quiz Question:** Which model has the **best** accuracy on the **validation_data**?\n",
      "\n",
      "**Quiz Question:** Is it always true that the model with the most trees will perform best on test data?"
     ]
    },
    {
     "cell_type": "heading",
     "level": 2,
     "metadata": {},
     "source": [
      "Plot the training and validation error vs. number of trees"
     ]
    },
    {
     "cell_type": "markdown",
     "metadata": {},
     "source": [
      "Recall from the lecture that the classification error is defined as\n",
      "\n",
      "$$\n",
      "\\mbox{classification error} = 1 - \\mbox{accuracy} \n",
      "$$\n",
      "\n",
      "In this section, we will plot the **training and validation errors versus the number of trees** to get a sense of how these models are performing. We will compare the 10, 50, 100, 200, and 500 tree models. You will need [matplotlib](http://matplotlib.org/downloads.html) in order to visualize the plots. \n",
      "\n",
      "First, make sure this block of code runs on your computer."
     ]
    },
    {
     "cell_type": "code",
     "collapsed": true,
     "input": [
      "import matplotlib.pyplot as plt\n",
      "%matplotlib inline\n",
      "def make_figure(dim, title, xlabel, ylabel, legend):\n",
      "    plt.rcParams['figure.figsize'] = dim\n",
      "    plt.title(title)\n",
      "    plt.xlabel(xlabel)\n",
      "    plt.ylabel(ylabel)\n",
      "    if legend is not None:\n",
      "        plt.legend(loc=legend, prop={'size':15})\n",
      "    plt.rcParams.update({'font.size': 16})\n",
      "    plt.tight_layout()"
     ],
     "language": "python",
     "metadata": {},
     "outputs": [
      {
       "ename": "ImportError",
       "evalue": "No module named matplotlib.pyplot",
       "output_type": "pyerr",
       "traceback": [
        "\u001b[0;31m---------------------------------------------------------------------------\u001b[0m\n\u001b[0;31mImportError\u001b[0m                               Traceback (most recent call last)",
        "\u001b[0;32m<ipython-input-33-bfb0e3a3f8ad>\u001b[0m in \u001b[0;36m<module>\u001b[0;34m()\u001b[0m\n\u001b[0;32m----> 1\u001b[0;31m \u001b[0;32mimport\u001b[0m \u001b[0mmatplotlib\u001b[0m\u001b[0;34m.\u001b[0m\u001b[0mpyplot\u001b[0m \u001b[0;32mas\u001b[0m \u001b[0mplt\u001b[0m\u001b[0;34m\u001b[0m\u001b[0m\n\u001b[0m\u001b[1;32m      2\u001b[0m \u001b[0mget_ipython\u001b[0m\u001b[0;34m(\u001b[0m\u001b[0;34m)\u001b[0m\u001b[0;34m.\u001b[0m\u001b[0mmagic\u001b[0m\u001b[0;34m(\u001b[0m\u001b[0;34mu'matplotlib inline'\u001b[0m\u001b[0;34m)\u001b[0m\u001b[0;34m\u001b[0m\u001b[0m\n\u001b[1;32m      3\u001b[0m \u001b[0;32mdef\u001b[0m \u001b[0mmake_figure\u001b[0m\u001b[0;34m(\u001b[0m\u001b[0mdim\u001b[0m\u001b[0;34m,\u001b[0m \u001b[0mtitle\u001b[0m\u001b[0;34m,\u001b[0m \u001b[0mxlabel\u001b[0m\u001b[0;34m,\u001b[0m \u001b[0mylabel\u001b[0m\u001b[0;34m,\u001b[0m \u001b[0mlegend\u001b[0m\u001b[0;34m)\u001b[0m\u001b[0;34m:\u001b[0m\u001b[0;34m\u001b[0m\u001b[0m\n\u001b[1;32m      4\u001b[0m     \u001b[0mplt\u001b[0m\u001b[0;34m.\u001b[0m\u001b[0mrcParams\u001b[0m\u001b[0;34m[\u001b[0m\u001b[0;34m'figure.figsize'\u001b[0m\u001b[0;34m]\u001b[0m \u001b[0;34m=\u001b[0m \u001b[0mdim\u001b[0m\u001b[0;34m\u001b[0m\u001b[0m\n\u001b[1;32m      5\u001b[0m     \u001b[0mplt\u001b[0m\u001b[0;34m.\u001b[0m\u001b[0mtitle\u001b[0m\u001b[0;34m(\u001b[0m\u001b[0mtitle\u001b[0m\u001b[0;34m)\u001b[0m\u001b[0;34m\u001b[0m\u001b[0m\n",
        "\u001b[0;31mImportError\u001b[0m: No module named matplotlib.pyplot"
       ]
      }
     ],
     "prompt_number": 33
    },
    {
     "cell_type": "markdown",
     "metadata": {},
     "source": [
      "In order to plot the classification errors (on the **train_data** and **validation_data**) versus the number of trees, we will need lists of these accuracies, which we get by applying the method `.evaluate`. \n",
      "\n",
      "**Steps to follow:**\n",
      "\n",
      "* **Step 1:** Calculate the classification error for model on the training data (**train_data**).\n",
      "* **Step 2:** Store the training errors into a list (called `training_errors`) that looks like this:\n",
      "```\n",
      "[train_err_10, train_err_50, ..., train_err_500]\n",
      "```\n",
      "* **Step 3:** Calculate the classification error of each model on the validation data (**validation_data**).\n",
      "* **Step 4:** Store the validation classification error into a list (called `validation_errors`) that looks like this:\n",
      "```\n",
      "[validation_err_10, validation_err_50, ..., validation_err_500]\n",
      "```\n",
      "Once that has been completed, the rest of the code should be able to evaluate correctly and generate the plot.\n",
      "\n",
      "\n",
      "Let us start with **Step 1**. Write code to compute the classification error on the **train_data** for models **model_10**, **model_50**, **model_100**, **model_200**, and **model_500**."
     ]
    },
    {
     "cell_type": "code",
     "collapsed": false,
     "input": [
      "train_err_10 = 1-model_10.evaluate(train_data)['accuracy']\n",
      "train_err_50 = 1-model_50.evaluate(train_data)['accuracy']\n",
      "train_err_100 = 1-model_100.evaluate(train_data)['accuracy']\n",
      "train_err_200 = 1-model_200.evaluate(train_data)['accuracy']\n",
      "train_err_500 = 1-model_500.evaluate(train_data)['accuracy']"
     ],
     "language": "python",
     "metadata": {},
     "outputs": [],
     "prompt_number": 34
    },
    {
     "cell_type": "markdown",
     "metadata": {},
     "source": [
      "Now, let us run **Step 2**. Save the training errors into a list called **training_errors**"
     ]
    },
    {
     "cell_type": "code",
     "collapsed": true,
     "input": [
      "training_errors = [train_err_10, train_err_50, train_err_100, \n",
      "                   train_err_200, train_err_500]"
     ],
     "language": "python",
     "metadata": {},
     "outputs": [],
     "prompt_number": 35
    },
    {
     "cell_type": "markdown",
     "metadata": {},
     "source": [
      "Now, onto **Step 3**. Write code to compute the classification error on the **validation_data** for models **model_10**, **model_50**, **model_100**, **model_200**, and **model_500**."
     ]
    },
    {
     "cell_type": "code",
     "collapsed": true,
     "input": [
      "validation_err_10 = 1-model_10.evaluate(validation_data)['accuracy']\n",
      "validation_err_50 = 1-model_50.evaluate(validation_data)['accuracy']\n",
      "validation_err_100 = 1-model_100.evaluate(validation_data)['accuracy']\n",
      "validation_err_200 = 1-model_200.evaluate(validation_data)['accuracy']\n",
      "validation_err_500 = 1-model_500.evaluate(validation_data)['accuracy']"
     ],
     "language": "python",
     "metadata": {},
     "outputs": [],
     "prompt_number": 36
    },
    {
     "cell_type": "markdown",
     "metadata": {},
     "source": [
      "Now, let us run **Step 4**. Save the training errors into a list called **validation_errors**"
     ]
    },
    {
     "cell_type": "code",
     "collapsed": false,
     "input": [
      "validation_errors = [validation_err_10, validation_err_50, validation_err_100, \n",
      "                     validation_err_200, validation_err_500]"
     ],
     "language": "python",
     "metadata": {},
     "outputs": [],
     "prompt_number": 37
    },
    {
     "cell_type": "markdown",
     "metadata": {},
     "source": [
      "Now, we will plot the **training_errors** and **validation_errors** versus the number of trees. We will compare the 10, 50, 100, 200, and 500 tree models. We provide some plotting code to visualize the plots within this notebook. \n",
      "\n",
      "Run the following code to visualize the plots."
     ]
    },
    {
     "cell_type": "code",
     "collapsed": false,
     "input": [
      "plt.plot([10, 50, 100, 200, 500], training_errors, linewidth=4.0, label='Training error')\n",
      "plt.plot([10, 50, 100, 200, 500], validation_errors, linewidth=4.0, label='Validation error')\n",
      "\n",
      "make_figure(dim=(10,5), title='Error vs number of trees',\n",
      "            xlabel='Number of trees',\n",
      "            ylabel='Classification error',\n",
      "            legend='best')"
     ],
     "language": "python",
     "metadata": {},
     "outputs": [
      {
       "ename": "NameError",
       "evalue": "name 'plt' is not defined",
       "output_type": "pyerr",
       "traceback": [
        "\u001b[0;31m---------------------------------------------------------------------------\u001b[0m\n\u001b[0;31mNameError\u001b[0m                                 Traceback (most recent call last)",
        "\u001b[0;32m<ipython-input-38-ac0f0971f9a0>\u001b[0m in \u001b[0;36m<module>\u001b[0;34m()\u001b[0m\n\u001b[0;32m----> 1\u001b[0;31m \u001b[0mplt\u001b[0m\u001b[0;34m.\u001b[0m\u001b[0mplot\u001b[0m\u001b[0;34m(\u001b[0m\u001b[0;34m[\u001b[0m\u001b[0;36m10\u001b[0m\u001b[0;34m,\u001b[0m \u001b[0;36m50\u001b[0m\u001b[0;34m,\u001b[0m \u001b[0;36m100\u001b[0m\u001b[0;34m,\u001b[0m \u001b[0;36m200\u001b[0m\u001b[0;34m,\u001b[0m \u001b[0;36m500\u001b[0m\u001b[0;34m]\u001b[0m\u001b[0;34m,\u001b[0m \u001b[0mtraining_errors\u001b[0m\u001b[0;34m,\u001b[0m \u001b[0mlinewidth\u001b[0m\u001b[0;34m=\u001b[0m\u001b[0;36m4.0\u001b[0m\u001b[0;34m,\u001b[0m \u001b[0mlabel\u001b[0m\u001b[0;34m=\u001b[0m\u001b[0;34m'Training error'\u001b[0m\u001b[0;34m)\u001b[0m\u001b[0;34m\u001b[0m\u001b[0m\n\u001b[0m\u001b[1;32m      2\u001b[0m \u001b[0mplt\u001b[0m\u001b[0;34m.\u001b[0m\u001b[0mplot\u001b[0m\u001b[0;34m(\u001b[0m\u001b[0;34m[\u001b[0m\u001b[0;36m10\u001b[0m\u001b[0;34m,\u001b[0m \u001b[0;36m50\u001b[0m\u001b[0;34m,\u001b[0m \u001b[0;36m100\u001b[0m\u001b[0;34m,\u001b[0m \u001b[0;36m200\u001b[0m\u001b[0;34m,\u001b[0m \u001b[0;36m500\u001b[0m\u001b[0;34m]\u001b[0m\u001b[0;34m,\u001b[0m \u001b[0mvalidation_errors\u001b[0m\u001b[0;34m,\u001b[0m \u001b[0mlinewidth\u001b[0m\u001b[0;34m=\u001b[0m\u001b[0;36m4.0\u001b[0m\u001b[0;34m,\u001b[0m \u001b[0mlabel\u001b[0m\u001b[0;34m=\u001b[0m\u001b[0;34m'Validation error'\u001b[0m\u001b[0;34m)\u001b[0m\u001b[0;34m\u001b[0m\u001b[0m\n\u001b[1;32m      3\u001b[0m \u001b[0;34m\u001b[0m\u001b[0m\n\u001b[1;32m      4\u001b[0m make_figure(dim=(10,5), title='Error vs number of trees',\n\u001b[1;32m      5\u001b[0m             \u001b[0mxlabel\u001b[0m\u001b[0;34m=\u001b[0m\u001b[0;34m'Number of trees'\u001b[0m\u001b[0;34m,\u001b[0m\u001b[0;34m\u001b[0m\u001b[0m\n",
        "\u001b[0;31mNameError\u001b[0m: name 'plt' is not defined"
       ]
      }
     ],
     "prompt_number": 38
    },
    {
     "cell_type": "markdown",
     "metadata": {},
     "source": [
      "**Quiz question**: Does the training error reduce as the number of trees increases?\n",
      "\n",
      "**Quiz question**: Is it always true that the validation error will reduce as the number of trees increases?"
     ]
    }
   ],
   "metadata": {}
  }
 ]
}