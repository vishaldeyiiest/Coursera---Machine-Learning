{
 "metadata": {
  "kernelspec": {
   "display_name": "Python 2",
   "language": "python",
   "name": "python2"
  },
  "language_info": {
   "codemirror_mode": {
    "name": "ipython",
    "version": 2
   },
   "file_extension": ".py",
   "mimetype": "text/x-python",
   "name": "python",
   "nbconvert_exporter": "python",
   "pygments_lexer": "ipython2",
   "version": "2.7.11"
  },
  "name": "",
  "signature": "sha256:a4a139eaac14d35042b3d81f717c6c5cb36fe8d376a763507f1241896c606420"
 },
 "nbformat": 3,
 "nbformat_minor": 0,
 "worksheets": [
  {
   "cells": [
    {
     "cell_type": "markdown",
     "metadata": {},
     "source": [
      "# Implementing logistic regression from scratch\n",
      "\n",
      "The goal of this notebook is to implement your own logistic regression classifier. You will:\n",
      "\n",
      " * Extract features from Amazon product reviews.\n",
      " * Convert an SFrame into a NumPy array.\n",
      " * Implement the link function for logistic regression.\n",
      " * Write a function to compute the derivative of the log likelihood function with respect to a single coefficient.\n",
      " * Implement gradient ascent.\n",
      " * Given a set of coefficients, predict sentiments.\n",
      " * Compute classification accuracy for the logistic regression model.\n",
      " \n",
      "Let's get started!\n",
      "    \n",
      "## Fire up GraphLab Create\n",
      "\n",
      "Make sure you have the latest version of GraphLab Create. Upgrade by\n",
      "```\n",
      "   pip install graphlab-create --upgrade\n",
      "```\n",
      "See [this page](https://dato.com/download/) for detailed instructions on upgrading."
     ]
    },
    {
     "cell_type": "code",
     "collapsed": false,
     "input": [
      "import graphlab"
     ],
     "language": "python",
     "metadata": {},
     "outputs": [],
     "prompt_number": 3
    },
    {
     "cell_type": "heading",
     "level": 2,
     "metadata": {},
     "source": [
      "Load review dataset"
     ]
    },
    {
     "cell_type": "markdown",
     "metadata": {},
     "source": [
      "For this assignment, we will use a subset of the Amazon product review dataset. The subset was chosen to contain similar numbers of positive and negative reviews, as the original dataset consisted primarily of positive reviews."
     ]
    },
    {
     "cell_type": "code",
     "collapsed": false,
     "input": [
      "products = graphlab.SFrame('amazon_baby_subset.gl/')"
     ],
     "language": "python",
     "metadata": {},
     "outputs": [
      {
       "output_type": "stream",
       "stream": "stderr",
       "text": [
        "[INFO] graphlab.cython.cy_server: GraphLab Create v1.10.1 started. Logging: /tmp/graphlab_server_1468856051.log\n"
       ]
      },
      {
       "output_type": "stream",
       "stream": "stderr",
       "text": [
        "INFO:graphlab.cython.cy_server:GraphLab Create v1.10.1 started. Logging: /tmp/graphlab_server_1468856051.log\n"
       ]
      },
      {
       "output_type": "stream",
       "stream": "stdout",
       "text": [
        "This non-commercial license of GraphLab Create is assigned to vishal.ranaghat@gmail.com and will expire on July 01, 2017. For commercial licensing options, visit https://turi.com/buy/.\n"
       ]
      }
     ],
     "prompt_number": 4
    },
    {
     "cell_type": "code",
     "collapsed": false,
     "input": [
      "products"
     ],
     "language": "python",
     "metadata": {},
     "outputs": [
      {
       "html": [
        "<div style=\"max-height:1000px;max-width:1500px;overflow:auto;\"><table frame=\"box\" rules=\"cols\">\n",
        "    <tr>\n",
        "        <th style=\"padding-left: 1em; padding-right: 1em; text-align: center\">name</th>\n",
        "        <th style=\"padding-left: 1em; padding-right: 1em; text-align: center\">review</th>\n",
        "        <th style=\"padding-left: 1em; padding-right: 1em; text-align: center\">rating</th>\n",
        "        <th style=\"padding-left: 1em; padding-right: 1em; text-align: center\">sentiment</th>\n",
        "    </tr>\n",
        "    <tr>\n",
        "        <td style=\"padding-left: 1em; padding-right: 1em; text-align: center; vertical-align: top\">Stop Pacifier Sucking<br>without tears with ...</td>\n",
        "        <td style=\"padding-left: 1em; padding-right: 1em; text-align: center; vertical-align: top\">All of my kids have cried<br>non-stop when I tried to ...</td>\n",
        "        <td style=\"padding-left: 1em; padding-right: 1em; text-align: center; vertical-align: top\">5.0</td>\n",
        "        <td style=\"padding-left: 1em; padding-right: 1em; text-align: center; vertical-align: top\">1</td>\n",
        "    </tr>\n",
        "    <tr>\n",
        "        <td style=\"padding-left: 1em; padding-right: 1em; text-align: center; vertical-align: top\">Nature's Lullabies Second<br>Year Sticker Calendar ...</td>\n",
        "        <td style=\"padding-left: 1em; padding-right: 1em; text-align: center; vertical-align: top\">We wanted to get<br>something to keep track ...</td>\n",
        "        <td style=\"padding-left: 1em; padding-right: 1em; text-align: center; vertical-align: top\">5.0</td>\n",
        "        <td style=\"padding-left: 1em; padding-right: 1em; text-align: center; vertical-align: top\">1</td>\n",
        "    </tr>\n",
        "    <tr>\n",
        "        <td style=\"padding-left: 1em; padding-right: 1em; text-align: center; vertical-align: top\">Nature's Lullabies Second<br>Year Sticker Calendar ...</td>\n",
        "        <td style=\"padding-left: 1em; padding-right: 1em; text-align: center; vertical-align: top\">My daughter had her 1st<br>baby over a year ago. ...</td>\n",
        "        <td style=\"padding-left: 1em; padding-right: 1em; text-align: center; vertical-align: top\">5.0</td>\n",
        "        <td style=\"padding-left: 1em; padding-right: 1em; text-align: center; vertical-align: top\">1</td>\n",
        "    </tr>\n",
        "    <tr>\n",
        "        <td style=\"padding-left: 1em; padding-right: 1em; text-align: center; vertical-align: top\">Lamaze Peekaboo, I Love<br>You ...</td>\n",
        "        <td style=\"padding-left: 1em; padding-right: 1em; text-align: center; vertical-align: top\">One of baby's first and<br>favorite books, and i ...</td>\n",
        "        <td style=\"padding-left: 1em; padding-right: 1em; text-align: center; vertical-align: top\">4.0</td>\n",
        "        <td style=\"padding-left: 1em; padding-right: 1em; text-align: center; vertical-align: top\">1</td>\n",
        "    </tr>\n",
        "    <tr>\n",
        "        <td style=\"padding-left: 1em; padding-right: 1em; text-align: center; vertical-align: top\">SoftPlay Peek-A-Boo<br>Where's Elmo A Childr ...</td>\n",
        "        <td style=\"padding-left: 1em; padding-right: 1em; text-align: center; vertical-align: top\">Very cute interactive<br>book! My son loves this ...</td>\n",
        "        <td style=\"padding-left: 1em; padding-right: 1em; text-align: center; vertical-align: top\">5.0</td>\n",
        "        <td style=\"padding-left: 1em; padding-right: 1em; text-align: center; vertical-align: top\">1</td>\n",
        "    </tr>\n",
        "    <tr>\n",
        "        <td style=\"padding-left: 1em; padding-right: 1em; text-align: center; vertical-align: top\">Our Baby Girl Memory Book</td>\n",
        "        <td style=\"padding-left: 1em; padding-right: 1em; text-align: center; vertical-align: top\">Beautiful book, I love it<br>to record cherished t ...</td>\n",
        "        <td style=\"padding-left: 1em; padding-right: 1em; text-align: center; vertical-align: top\">5.0</td>\n",
        "        <td style=\"padding-left: 1em; padding-right: 1em; text-align: center; vertical-align: top\">1</td>\n",
        "    </tr>\n",
        "    <tr>\n",
        "        <td style=\"padding-left: 1em; padding-right: 1em; text-align: center; vertical-align: top\">Hunnt&amp;reg; Falling<br>Flowers and Birds Kids ...</td>\n",
        "        <td style=\"padding-left: 1em; padding-right: 1em; text-align: center; vertical-align: top\">Try this out for a spring<br>project !Easy ,fun and ...</td>\n",
        "        <td style=\"padding-left: 1em; padding-right: 1em; text-align: center; vertical-align: top\">5.0</td>\n",
        "        <td style=\"padding-left: 1em; padding-right: 1em; text-align: center; vertical-align: top\">1</td>\n",
        "    </tr>\n",
        "    <tr>\n",
        "        <td style=\"padding-left: 1em; padding-right: 1em; text-align: center; vertical-align: top\">Blessed By Pope Benedict<br>XVI Divine Mercy Full ...</td>\n",
        "        <td style=\"padding-left: 1em; padding-right: 1em; text-align: center; vertical-align: top\">very nice Divine Mercy<br>Pendant of Jesus now on ...</td>\n",
        "        <td style=\"padding-left: 1em; padding-right: 1em; text-align: center; vertical-align: top\">5.0</td>\n",
        "        <td style=\"padding-left: 1em; padding-right: 1em; text-align: center; vertical-align: top\">1</td>\n",
        "    </tr>\n",
        "    <tr>\n",
        "        <td style=\"padding-left: 1em; padding-right: 1em; text-align: center; vertical-align: top\">Cloth Diaper Pins<br>Stainless Steel ...</td>\n",
        "        <td style=\"padding-left: 1em; padding-right: 1em; text-align: center; vertical-align: top\">We bought the pins as my<br>6 year old Autistic son ...</td>\n",
        "        <td style=\"padding-left: 1em; padding-right: 1em; text-align: center; vertical-align: top\">4.0</td>\n",
        "        <td style=\"padding-left: 1em; padding-right: 1em; text-align: center; vertical-align: top\">1</td>\n",
        "    </tr>\n",
        "    <tr>\n",
        "        <td style=\"padding-left: 1em; padding-right: 1em; text-align: center; vertical-align: top\">Cloth Diaper Pins<br>Stainless Steel ...</td>\n",
        "        <td style=\"padding-left: 1em; padding-right: 1em; text-align: center; vertical-align: top\">It has been many years<br>since we needed diaper ...</td>\n",
        "        <td style=\"padding-left: 1em; padding-right: 1em; text-align: center; vertical-align: top\">5.0</td>\n",
        "        <td style=\"padding-left: 1em; padding-right: 1em; text-align: center; vertical-align: top\">1</td>\n",
        "    </tr>\n",
        "</table>\n",
        "[53072 rows x 4 columns]<br/>Note: Only the head of the SFrame is printed.<br/>You can use print_rows(num_rows=m, num_columns=n) to print more rows and columns.\n",
        "</div>"
       ],
       "metadata": {},
       "output_type": "pyout",
       "prompt_number": 5,
       "text": [
        "Columns:\n",
        "\tname\tstr\n",
        "\treview\tstr\n",
        "\trating\tfloat\n",
        "\tsentiment\tint\n",
        "\n",
        "Rows: 53072\n",
        "\n",
        "Data:\n",
        "+-------------------------------+-------------------------------+--------+-----------+\n",
        "|              name             |             review            | rating | sentiment |\n",
        "+-------------------------------+-------------------------------+--------+-----------+\n",
        "| Stop Pacifier Sucking with... | All of my kids have cried ... |  5.0   |     1     |\n",
        "| Nature's Lullabies Second ... | We wanted to get something... |  5.0   |     1     |\n",
        "| Nature's Lullabies Second ... | My daughter had her 1st ba... |  5.0   |     1     |\n",
        "|  Lamaze Peekaboo, I Love You  | One of baby's first and fa... |  4.0   |     1     |\n",
        "| SoftPlay Peek-A-Boo Where'... | Very cute interactive book... |  5.0   |     1     |\n",
        "|   Our Baby Girl Memory Book   | Beautiful book, I love it ... |  5.0   |     1     |\n",
        "| Hunnt&reg; Falling Flowers... | Try this out for a spring ... |  5.0   |     1     |\n",
        "| Blessed By Pope Benedict X... | very nice Divine Mercy Pen... |  5.0   |     1     |\n",
        "| Cloth Diaper Pins Stainles... | We bought the pins as my 6... |  4.0   |     1     |\n",
        "| Cloth Diaper Pins Stainles... | It has been many years sin... |  5.0   |     1     |\n",
        "+-------------------------------+-------------------------------+--------+-----------+\n",
        "[53072 rows x 4 columns]\n",
        "Note: Only the head of the SFrame is printed.\n",
        "You can use print_rows(num_rows=m, num_columns=n) to print more rows and columns."
       ]
      }
     ],
     "prompt_number": 5
    },
    {
     "cell_type": "markdown",
     "metadata": {},
     "source": [
      "One column of this dataset is 'sentiment', corresponding to the class label with +1 indicating a review with positive sentiment and -1 indicating one with negative sentiment."
     ]
    },
    {
     "cell_type": "code",
     "collapsed": false,
     "input": [
      "products['sentiment']"
     ],
     "language": "python",
     "metadata": {},
     "outputs": [
      {
       "metadata": {},
       "output_type": "pyout",
       "prompt_number": 6,
       "text": [
        "dtype: int\n",
        "Rows: 53072\n",
        "[1, 1, 1, 1, 1, 1, 1, 1, 1, 1, 1, 1, 1, 1, 1, 1, 1, 1, 1, 1, 1, 1, 1, 1, 1, 1, 1, 1, 1, 1, 1, 1, 1, 1, 1, 1, 1, 1, 1, 1, 1, 1, 1, 1, 1, 1, 1, 1, 1, 1, 1, 1, 1, 1, 1, 1, 1, 1, 1, 1, 1, 1, 1, 1, 1, 1, 1, 1, 1, 1, 1, 1, 1, 1, 1, 1, 1, 1, 1, 1, 1, 1, 1, 1, 1, 1, 1, 1, 1, 1, 1, 1, 1, 1, 1, 1, 1, 1, 1, 1, ... ]"
       ]
      }
     ],
     "prompt_number": 6
    },
    {
     "cell_type": "markdown",
     "metadata": {},
     "source": [
      "Let us quickly explore more of this dataset.  The 'name' column indicates the name of the product.  Here we list the first 10 products in the dataset.  We then count the number of positive and negative reviews."
     ]
    },
    {
     "cell_type": "code",
     "collapsed": false,
     "input": [
      "products.head(10)['name']"
     ],
     "language": "python",
     "metadata": {},
     "outputs": [
      {
       "metadata": {},
       "output_type": "pyout",
       "prompt_number": 7,
       "text": [
        "dtype: str\n",
        "Rows: 10\n",
        "[\"Stop Pacifier Sucking without tears with Thumbuddy To Love's Binky Fairy Puppet and Adorable Book\", \"Nature's Lullabies Second Year Sticker Calendar\", \"Nature's Lullabies Second Year Sticker Calendar\", 'Lamaze Peekaboo, I Love You', \"SoftPlay Peek-A-Boo Where's Elmo A Children's Book\", 'Our Baby Girl Memory Book', 'Hunnt&reg; Falling Flowers and Birds Kids Nursery Home Decor Vinyl Mural Art Wall Paper Stickers', 'Blessed By Pope Benedict XVI Divine Mercy Full Color Medal', 'Cloth Diaper Pins Stainless Steel Traditional Safety Pin (Black)', 'Cloth Diaper Pins Stainless Steel Traditional Safety Pin (Black)']"
       ]
      }
     ],
     "prompt_number": 7
    },
    {
     "cell_type": "code",
     "collapsed": false,
     "input": [
      "print '# of positive reviews =', len(products[products['sentiment']==1])\n",
      "print '# of negative reviews =', len(products[products['sentiment']==-1])"
     ],
     "language": "python",
     "metadata": {},
     "outputs": [
      {
       "output_type": "stream",
       "stream": "stdout",
       "text": [
        "# of positive reviews = "
       ]
      },
      {
       "output_type": "stream",
       "stream": "stdout",
       "text": [
        "26579\n",
        "# of negative reviews = "
       ]
      },
      {
       "output_type": "stream",
       "stream": "stdout",
       "text": [
        "26493\n"
       ]
      }
     ],
     "prompt_number": 8
    },
    {
     "cell_type": "markdown",
     "metadata": {},
     "source": [
      "**Note:** For this assignment, we eliminated class imbalance by choosing \n",
      "a subset of the data with a similar number of positive and negative reviews. \n",
      "\n",
      "## Apply text cleaning on the review data\n",
      "\n",
      "In this section, we will perform some simple feature cleaning using **SFrames**. The last assignment used all words in building bag-of-words features, but here we limit ourselves to 193 words (for simplicity). We compiled a list of 193 most frequent words into a JSON file. \n",
      "\n",
      "Now, we will load these words from this JSON file:"
     ]
    },
    {
     "cell_type": "code",
     "collapsed": false,
     "input": [
      "import json\n",
      "with open('important_words.json', 'r') as f: # Reads the list of most frequent words\n",
      "    important_words = json.load(f)\n",
      "important_words = [str(s) for s in important_words]"
     ],
     "language": "python",
     "metadata": {},
     "outputs": [],
     "prompt_number": 9
    },
    {
     "cell_type": "code",
     "collapsed": false,
     "input": [
      "print important_words"
     ],
     "language": "python",
     "metadata": {},
     "outputs": [
      {
       "output_type": "stream",
       "stream": "stdout",
       "text": [
        "['baby', 'one', 'great', 'love', 'use', 'would', 'like', 'easy', 'little', 'seat', 'old', 'well', 'get', 'also', 'really', 'son', 'time', 'bought', 'product', 'good', 'daughter', 'much', 'loves', 'stroller', 'put', 'months', 'car', 'still', 'back', 'used', 'recommend', 'first', 'even', 'perfect', 'nice', 'bag', 'two', 'using', 'got', 'fit', 'around', 'diaper', 'enough', 'month', 'price', 'go', 'could', 'soft', 'since', 'buy', 'room', 'works', 'made', 'child', 'keep', 'size', 'small', 'need', 'year', 'big', 'make', 'take', 'easily', 'think', 'crib', 'clean', 'way', 'quality', 'thing', 'better', 'without', 'set', 'new', 'every', 'cute', 'best', 'bottles', 'work', 'purchased', 'right', 'lot', 'side', 'happy', 'comfortable', 'toy', 'able', 'kids', 'bit', 'night', 'long', 'fits', 'see', 'us', 'another', 'play', 'day', 'money', 'monitor', 'tried', 'thought', 'never', 'item', 'hard', 'plastic', 'however', 'disappointed', 'reviews', 'something', 'going', 'pump', 'bottle', 'cup', 'waste', 'return', 'amazon', 'different', 'top', 'want', 'problem', 'know', 'water', 'try', 'received', 'sure', 'times', 'chair', 'find', 'hold', 'gate', 'open', 'bottom', 'away', 'actually', 'cheap', 'worked', 'getting', 'ordered', 'came', 'milk', 'bad', 'part', 'worth', 'found', 'cover', 'many', 'design', 'looking', 'weeks', 'say', 'wanted', 'look', 'place', 'purchase', 'looks', 'second', 'piece', 'box', 'pretty', 'trying', 'difficult', 'together', 'though', 'give', 'started', 'anything', 'last', 'company', 'come', 'returned', 'maybe', 'took', 'broke', 'makes', 'stay', 'instead', 'idea', 'head', 'said', 'less', 'went', 'working', 'high', 'unit', 'seems', 'picture', 'completely', 'wish', 'buying', 'babies', 'won', 'tub', 'almost', 'either']\n"
       ]
      }
     ],
     "prompt_number": 10
    },
    {
     "cell_type": "markdown",
     "metadata": {},
     "source": [
      "Now, we will perform 2 simple data transformations:\n",
      "\n",
      "1. Remove punctuation using [Python's built-in](https://docs.python.org/2/library/string.html) string functionality.\n",
      "2. Compute word counts (only for **important_words**)\n",
      "\n",
      "We start with *Step 1* which can be done as follows:"
     ]
    },
    {
     "cell_type": "code",
     "collapsed": false,
     "input": [
      "def remove_punctuation(text):\n",
      "    import string\n",
      "    return text.translate(None, string.punctuation) \n",
      "\n",
      "products['review_clean'] = products['review'].apply(remove_punctuation)"
     ],
     "language": "python",
     "metadata": {},
     "outputs": [],
     "prompt_number": 11
    },
    {
     "cell_type": "markdown",
     "metadata": {},
     "source": [
      "Now we proceed with *Step 2*. For each word in **important_words**, we compute a count for the number of times the word occurs in the review. We will store this count in a separate column (one for each word). The result of this feature processing is a single column for each word in **important_words** which keeps a count of the number of times the respective word occurs in the review text.\n",
      "\n",
      "\n",
      "**Note:** There are several ways of doing this. In this assignment, we use the built-in *count* function for Python lists. Each review string is first split into individual words and the number of occurances of a given word is counted."
     ]
    },
    {
     "cell_type": "code",
     "collapsed": false,
     "input": [
      "for word in important_words:\n",
      "    products[word] = products['review_clean'].apply(lambda s : s.split().count(word))"
     ],
     "language": "python",
     "metadata": {},
     "outputs": [],
     "prompt_number": 12
    },
    {
     "cell_type": "markdown",
     "metadata": {},
     "source": [
      "The SFrame **products** now contains one column for each of the 193 **important_words**. As an example, the column **perfect** contains a count of the number of times the word **perfect** occurs in each of the reviews."
     ]
    },
    {
     "cell_type": "code",
     "collapsed": false,
     "input": [
      "products['perfect']"
     ],
     "language": "python",
     "metadata": {},
     "outputs": [
      {
       "metadata": {},
       "output_type": "pyout",
       "prompt_number": 13,
       "text": [
        "dtype: int\n",
        "Rows: 53072\n",
        "[0, 0, 0, 1, 0, 0, 0, 0, 0, 0, 0, 1, 0, 0, 0, 0, 0, 0, 0, 0, 0, 0, 1, 0, 1, 0, 0, 1, 0, 0, 0, 0, 0, 0, 0, 0, 0, 0, 0, 0, 0, 0, 0, 0, 0, 0, 0, 0, 0, 0, 0, 0, 0, 0, 0, 0, 0, 0, 0, 0, 0, 0, 0, 0, 0, 0, 0, 0, 0, 0, 0, 0, 0, 0, 0, 0, 0, 0, 0, 0, 0, 0, 0, 0, 0, 0, 0, 0, 0, 0, 0, 0, 0, 0, 0, 0, 0, 0, 0, 0, ... ]"
       ]
      }
     ]
    },
    {
     "cell_type": "markdown",
     "metadata": {},
     "source": [
      "Now, write some code to compute the number of product reviews that contain the word **perfect**.\n",
      "\n",
      "**Hint**: \n",
      "* First create a column called `contains_perfect` which is set to 1 if the count of the word **perfect** (stored in column **perfect**) is >= 1.\n",
      "* Sum the number of 1s in the column `contains_perfect`."
     ]
    },
    {
     "cell_type": "code",
     "collapsed": false,
     "input": [
      "count = 0\n",
      "for each in products:\n",
      "    if each['perfect'] >= 1:\n",
      "        count += 1\n",
      "        each['contains_perfect'] = 1\n",
      "print count"
     ],
     "language": "python",
     "metadata": {},
     "outputs": []
    },
    {
     "cell_type": "markdown",
     "metadata": {},
     "source": [
      "**Quiz Question**. How many reviews contain the word **perfect**?"
     ]
    },
    {
     "cell_type": "markdown",
     "metadata": {},
     "source": [
      "## Convert SFrame to NumPy array\n",
      "\n",
      "As you have seen previously, NumPy is a powerful library for doing matrix manipulation. Let us convert our data to matrices and then implement our algorithms with matrices.\n",
      "\n",
      "First, make sure you can perform the following import."
     ]
    },
    {
     "cell_type": "code",
     "collapsed": true,
     "input": [
      "import numpy as np"
     ],
     "language": "python",
     "metadata": {},
     "outputs": []
    },
    {
     "cell_type": "markdown",
     "metadata": {},
     "source": [
      "We now provide you with a function that extracts columns from an SFrame and converts them into a NumPy array. Two arrays are returned: one representing features and another representing class labels. Note that the feature matrix includes an additional column 'intercept' to take account of the intercept term."
     ]
    },
    {
     "cell_type": "code",
     "collapsed": true,
     "input": [
      "def get_numpy_data(data_sframe, features, label):\n",
      "    data_sframe['intercept'] = 1\n",
      "    features = ['intercept'] + features\n",
      "    features_sframe = data_sframe[features]\n",
      "    feature_matrix = features_sframe.to_numpy()\n",
      "    label_sarray = data_sframe[label]\n",
      "    label_array = label_sarray.to_numpy()\n",
      "    return(feature_matrix, label_array)"
     ],
     "language": "python",
     "metadata": {},
     "outputs": []
    },
    {
     "cell_type": "markdown",
     "metadata": {},
     "source": [
      "Let us convert the data into NumPy arrays."
     ]
    },
    {
     "cell_type": "code",
     "collapsed": false,
     "input": [
      "# Warning: This may take a few minutes...\n",
      "#feature_matrix, sentiment = get_numpy_data(products, important_words, 'sentiment')\n",
      "arrays = np.load('module-3-assignment-numpy-arrays.npz')\n",
      "feature_matrix, sentiment = arrays['feature_matrix'], arrays['sentiment']"
     ],
     "language": "python",
     "metadata": {},
     "outputs": []
    },
    {
     "cell_type": "markdown",
     "metadata": {},
     "source": [
      "**Are you running this notebook on an Amazon EC2 t2.micro instance?** (If you are using your own machine, please skip this section)\n",
      "\n",
      "It has been reported that t2.micro instances do not provide sufficient power to complete the conversion in acceptable amount of time. For interest of time, please refrain from running `get_numpy_data` function. Instead, download the [binary file](https://s3.amazonaws.com/static.dato.com/files/coursera/course-3/numpy-arrays/module-3-assignment-numpy-arrays.npz) containing the four NumPy arrays you'll need for the assignment. To load the arrays, run the following commands:\n",
      "```\n",
      "arrays = np.load('module-3-assignment-numpy-arrays.npz')\n",
      "feature_matrix, sentiment = arrays['feature_matrix'], arrays['sentiment']\n",
      "```"
     ]
    },
    {
     "cell_type": "code",
     "collapsed": false,
     "input": [
      "feature_matrix.shape"
     ],
     "language": "python",
     "metadata": {},
     "outputs": []
    },
    {
     "cell_type": "markdown",
     "metadata": {},
     "source": [
      "** Quiz Question:** How many features are there in the **feature_matrix**?\n",
      "\n",
      "** Quiz Question:** Assuming that the intercept is present, how does the number of features in **feature_matrix** relate to the number of features in the logistic regression model?"
     ]
    },
    {
     "cell_type": "markdown",
     "metadata": {},
     "source": [
      "Now, let us see what the **sentiment** column looks like:"
     ]
    },
    {
     "cell_type": "code",
     "collapsed": false,
     "input": [
      "sentiment"
     ],
     "language": "python",
     "metadata": {},
     "outputs": []
    },
    {
     "cell_type": "heading",
     "level": 2,
     "metadata": {},
     "source": [
      "Estimating conditional probability with link function"
     ]
    },
    {
     "cell_type": "markdown",
     "metadata": {},
     "source": [
      "Recall from lecture that the link function is given by:\n",
      "$$\n",
      "P(y_i = +1 | \\mathbf{x}_i,\\mathbf{w}) = \\frac{1}{1 + \\exp(-\\mathbf{w}^T h(\\mathbf{x}_i))},\n",
      "$$\n",
      "\n",
      "where the feature vector $h(\\mathbf{x}_i)$ represents the word counts of **important_words** in the review  $\\mathbf{x}_i$. Complete the following function that implements the link function:"
     ]
    },
    {
     "cell_type": "code",
     "collapsed": false,
     "input": [
      "'''\n",
      "produces probablistic estimate for P(y_i = +1 | x_i, w).\n",
      "estimate ranges between 0 and 1.\n",
      "'''\n",
      "def predict_probability(feature_matrix, coefficients):\n",
      "    # Take dot product of feature_matrix and coefficients  \n",
      "    scores = feature_matrix.dot(coefficients)\n",
      "    # Compute P(y_i = +1 | x_i, w) using the link function\n",
      "    # YOUR CODE HERE\n",
      "    predictions = 1.0/(1.0 + np.exp(-scores))\n",
      "    \n",
      "    # return predictions\n",
      "    return predictions"
     ],
     "language": "python",
     "metadata": {},
     "outputs": []
    },
    {
     "cell_type": "markdown",
     "metadata": {},
     "source": [
      "**Aside**. How the link function works with matrix algebra\n",
      "\n",
      "Since the word counts are stored as columns in **feature_matrix**, each $i$-th row of the matrix corresponds to the feature vector $h(\\mathbf{x}_i)$:\n",
      "$$\n",
      "[\\text{feature_matrix}] =\n",
      "\\left[\n",
      "\\begin{array}{c}\n",
      "h(\\mathbf{x}_1)^T \\\\\n",
      "h(\\mathbf{x}_2)^T \\\\\n",
      "\\vdots \\\\\n",
      "h(\\mathbf{x}_N)^T\n",
      "\\end{array}\n",
      "\\right] =\n",
      "\\left[\n",
      "\\begin{array}{cccc}\n",
      "h_0(\\mathbf{x}_1) & h_1(\\mathbf{x}_1) & \\cdots & h_D(\\mathbf{x}_1) \\\\\n",
      "h_0(\\mathbf{x}_2) & h_1(\\mathbf{x}_2) & \\cdots & h_D(\\mathbf{x}_2) \\\\\n",
      "\\vdots & \\vdots & \\ddots & \\vdots \\\\\n",
      "h_0(\\mathbf{x}_N) & h_1(\\mathbf{x}_N) & \\cdots & h_D(\\mathbf{x}_N)\n",
      "\\end{array}\n",
      "\\right]\n",
      "$$\n",
      "\n",
      "By the rules of matrix multiplication, the score vector containing elements $\\mathbf{w}^T h(\\mathbf{x}_i)$ is obtained by multiplying **feature_matrix** and the coefficient vector $\\mathbf{w}$.\n",
      "$$\n",
      "[\\text{score}] =\n",
      "[\\text{feature_matrix}]\\mathbf{w} =\n",
      "\\left[\n",
      "\\begin{array}{c}\n",
      "h(\\mathbf{x}_1)^T \\\\\n",
      "h(\\mathbf{x}_2)^T \\\\\n",
      "\\vdots \\\\\n",
      "h(\\mathbf{x}_N)^T\n",
      "\\end{array}\n",
      "\\right]\n",
      "\\mathbf{w}\n",
      "= \\left[\n",
      "\\begin{array}{c}\n",
      "h(\\mathbf{x}_1)^T\\mathbf{w} \\\\\n",
      "h(\\mathbf{x}_2)^T\\mathbf{w} \\\\\n",
      "\\vdots \\\\\n",
      "h(\\mathbf{x}_N)^T\\mathbf{w}\n",
      "\\end{array}\n",
      "\\right]\n",
      "= \\left[\n",
      "\\begin{array}{c}\n",
      "\\mathbf{w}^T h(\\mathbf{x}_1) \\\\\n",
      "\\mathbf{w}^T h(\\mathbf{x}_2) \\\\\n",
      "\\vdots \\\\\n",
      "\\mathbf{w}^T h(\\mathbf{x}_N)\n",
      "\\end{array}\n",
      "\\right]\n",
      "$$"
     ]
    },
    {
     "cell_type": "markdown",
     "metadata": {},
     "source": [
      "**Checkpoint**\n",
      "\n",
      "Just to make sure you are on the right track, we have provided a few examples. If your `predict_probability` function is implemented correctly, then the outputs will match:"
     ]
    },
    {
     "cell_type": "code",
     "collapsed": false,
     "input": [
      "dummy_feature_matrix = np.array([[1.,2.,3.], [1.,-1.,-1]])\n",
      "dummy_coefficients = np.array([1., 3., -1.])\n",
      "\n",
      "correct_scores      = np.array( [ 1.*1. + 2.*3. + 3.*(-1.),          1.*1. + (-1.)*3. + (-1.)*(-1.) ] )\n",
      "correct_predictions = np.array( [ 1./(1+np.exp(-correct_scores[0])), 1./(1+np.exp(-correct_scores[1])) ] )\n",
      "\n",
      "print 'The following outputs must match '\n",
      "print '------------------------------------------------'\n",
      "print 'correct_predictions           =', correct_predictions\n",
      "print 'output of predict_probability =', predict_probability(dummy_feature_matrix, dummy_coefficients)"
     ],
     "language": "python",
     "metadata": {},
     "outputs": []
    },
    {
     "cell_type": "markdown",
     "metadata": {},
     "source": [
      "## Compute derivative of log likelihood with respect to a single coefficient\n",
      "\n",
      "Recall from lecture:\n",
      "$$\n",
      "\\frac{\\partial\\ell}{\\partial w_j} = \\sum_{i=1}^N h_j(\\mathbf{x}_i)\\left(\\mathbf{1}[y_i = +1] - P(y_i = +1 | \\mathbf{x}_i, \\mathbf{w})\\right)\n",
      "$$\n",
      "\n",
      "We will now write a function that computes the derivative of log likelihood with respect to a single coefficient $w_j$. The function accepts two arguments:\n",
      "* `errors` vector containing $\\mathbf{1}[y_i = +1] - P(y_i = +1 | \\mathbf{x}_i, \\mathbf{w})$ for all $i$.\n",
      "* `feature` vector containing $h_j(\\mathbf{x}_i)$  for all $i$. \n",
      "\n",
      "Complete the following code block:"
     ]
    },
    {
     "cell_type": "code",
     "collapsed": true,
     "input": [
      "def feature_derivative(errors, feature):     \n",
      "    # Compute the dot product of errors and feature\n",
      "    derivative = errors.dot(feature)\n",
      "    \n",
      "    # Return the derivative\n",
      "    return derivative"
     ],
     "language": "python",
     "metadata": {},
     "outputs": []
    },
    {
     "cell_type": "markdown",
     "metadata": {},
     "source": [
      "In the main lecture, our focus was on the likelihood.  In the advanced optional video, however, we introduced a transformation of this likelihood---called the log likelihood---that simplifies the derivation of the gradient and is more numerically stable.  Due to its numerical stability, we will use the log likelihood instead of the likelihood to assess the algorithm.\n",
      "\n",
      "The log likelihood is computed using the following formula (see the advanced optional video if you are curious about the derivation of this equation):\n",
      "\n",
      "$$\\ell\\ell(\\mathbf{w}) = \\sum_{i=1}^N \\Big( (\\mathbf{1}[y_i = +1] - 1)\\mathbf{w}^T h(\\mathbf{x}_i) - \\ln\\left(1 + \\exp(-\\mathbf{w}^T h(\\mathbf{x}_i))\\right) \\Big) $$\n",
      "\n",
      "We provide a function to compute the log likelihood for the entire dataset. "
     ]
    },
    {
     "cell_type": "code",
     "collapsed": false,
     "input": [
      "def compute_log_likelihood(feature_matrix, sentiment, coefficients):\n",
      "    indicator = (sentiment==+1)\n",
      "    scores = np.dot(feature_matrix, coefficients)\n",
      "    logexp = np.log(1. + np.exp(-scores))\n",
      "    \n",
      "    # Simple check to prevent overflow\n",
      "    mask = np.isinf(logexp)\n",
      "    logexp[mask] = -scores[mask]\n",
      "    \n",
      "    lp = np.sum((indicator-1)*scores - logexp)\n",
      "    return lp"
     ],
     "language": "python",
     "metadata": {},
     "outputs": []
    },
    {
     "cell_type": "markdown",
     "metadata": {},
     "source": [
      "**Checkpoint**\n",
      "\n",
      "Just to make sure we are on the same page, run the following code block and check that the outputs match."
     ]
    },
    {
     "cell_type": "code",
     "collapsed": false,
     "input": [
      "dummy_feature_matrix = np.array([[1.,2.,3.], [1.,-1.,-1]])\n",
      "dummy_coefficients = np.array([1., 3., -1.])\n",
      "dummy_sentiment = np.array([-1, 1])\n",
      "\n",
      "correct_indicators  = np.array( [ -1==+1,                                       1==+1 ] )\n",
      "correct_scores      = np.array( [ 1.*1. + 2.*3. + 3.*(-1.),                     1.*1. + (-1.)*3. + (-1.)*(-1.) ] )\n",
      "correct_first_term  = np.array( [ (correct_indicators[0]-1)*correct_scores[0],  (correct_indicators[1]-1)*correct_scores[1] ] )\n",
      "correct_second_term = np.array( [ np.log(1. + np.exp(-correct_scores[0])),      np.log(1. + np.exp(-correct_scores[1])) ] )\n",
      "\n",
      "correct_ll          =      sum( [ correct_first_term[0]-correct_second_term[0], correct_first_term[1]-correct_second_term[1] ] ) \n",
      "\n",
      "print 'The following outputs must match '\n",
      "print '------------------------------------------------'\n",
      "print 'correct_log_likelihood           =', correct_ll\n",
      "print 'output of compute_log_likelihood =', compute_log_likelihood(dummy_feature_matrix, dummy_sentiment, dummy_coefficients)"
     ],
     "language": "python",
     "metadata": {},
     "outputs": []
    },
    {
     "cell_type": "heading",
     "level": 2,
     "metadata": {},
     "source": [
      "Taking gradient steps"
     ]
    },
    {
     "cell_type": "markdown",
     "metadata": {},
     "source": [
      "Now we are ready to implement our own logistic regression. All we have to do is to write a gradient ascent function that takes gradient steps towards the optimum. \n",
      "\n",
      "Complete the following function to solve the logistic regression model using gradient ascent:"
     ]
    },
    {
     "cell_type": "code",
     "collapsed": false,
     "input": [
      "from math import sqrt\n",
      "\n",
      "def logistic_regression(feature_matrix, sentiment, initial_coefficients, step_size, max_iter):\n",
      "    coefficients = np.array(initial_coefficients) # make sure it's a numpy array\n",
      "    for itr in xrange(max_iter):\n",
      "\n",
      "        # Predict P(y_i = +1|x_i,w) using your predict_probability() function\n",
      "        # YOUR CODE HERE\n",
      "        predictions = predict_probability(feature_matrix, coefficients)\n",
      "        \n",
      "        # Compute indicator value for (y_i = +1)\n",
      "        indicator = (sentiment==+1)\n",
      "        \n",
      "        # Compute the errors as indicator - predictions\n",
      "        errors = indicator - predictions\n",
      "        for j in xrange(len(coefficients)): # loop over each coefficient\n",
      "            \n",
      "            # Recall that feature_matrix[:,j] is the feature column associated with coefficients[j].\n",
      "            # Compute the derivative for coefficients[j]. Save it in a variable called derivative\n",
      "            # YOUR CODE HERE\n",
      "            derivative = feature_derivative(errors, feature_matrix[:,j])\n",
      "            \n",
      "            # add the step size times the derivative to the current coefficient\n",
      "            ## YOUR CODE HERE\n",
      "            coefficients[j] = step_size * derivative\n",
      "        \n",
      "        # Checking whether log likelihood is increasing\n",
      "        if itr <= 15 or (itr <= 100 and itr % 10 == 0) or (itr <= 1000 and itr % 100 == 0) \\\n",
      "        or (itr <= 10000 and itr % 1000 == 0) or itr % 10000 == 0:\n",
      "            lp = compute_log_likelihood(feature_matrix, sentiment, coefficients)\n",
      "            print 'iteration %*d: log likelihood of observed labels = %.8f' % \\\n",
      "                (int(np.ceil(np.log10(max_iter))), itr, lp)\n",
      "    return coefficients"
     ],
     "language": "python",
     "metadata": {},
     "outputs": []
    },
    {
     "cell_type": "markdown",
     "metadata": {},
     "source": [
      "Now, let us run the logistic regression solver."
     ]
    },
    {
     "cell_type": "code",
     "collapsed": false,
     "input": [
      "coefficients = logistic_regression(feature_matrix, sentiment, initial_coefficients=np.zeros(194),\n",
      "                                   step_size=1e-7, max_iter=301)"
     ],
     "language": "python",
     "metadata": {},
     "outputs": []
    },
    {
     "cell_type": "markdown",
     "metadata": {},
     "source": [
      "**Quiz question:** As each iteration of gradient ascent passes, does the log likelihood increase or decrease?"
     ]
    },
    {
     "cell_type": "heading",
     "level": 2,
     "metadata": {},
     "source": [
      "Predicting sentiments"
     ]
    },
    {
     "cell_type": "markdown",
     "metadata": {},
     "source": [
      "Recall from lecture that class predictions for a data point $\\mathbf{x}$ can be computed from the coefficients $\\mathbf{w}$ using the following formula:\n",
      "$$\n",
      "\\hat{y}_i = \n",
      "\\left\\{\n",
      "\\begin{array}{ll}\n",
      "      +1 & \\mathbf{x}_i^T\\mathbf{w} > 0 \\\\\n",
      "      -1 & \\mathbf{x}_i^T\\mathbf{w} \\leq 0 \\\\\n",
      "\\end{array} \n",
      "\\right.\n",
      "$$\n",
      "\n",
      "Now, we will write some code to compute class predictions. We will do this in two steps:\n",
      "* **Step 1**: First compute the **scores** using **feature_matrix** and **coefficients** using a dot product.\n",
      "* **Step 2**: Using the formula above, compute the class predictions from the scores.\n",
      "\n",
      "Step 1 can be implemented as follows:"
     ]
    },
    {
     "cell_type": "code",
     "collapsed": true,
     "input": [
      "# Compute the scores as a dot product between feature_matrix and coefficients.\n",
      "scores = np.dot(feature_matrix, coefficients)"
     ],
     "language": "python",
     "metadata": {},
     "outputs": []
    },
    {
     "cell_type": "markdown",
     "metadata": {},
     "source": [
      "Now, complete the following code block for **Step 2** to compute the class predictions using the **scores** obtained above:"
     ]
    },
    {
     "cell_type": "code",
     "collapsed": false,
     "input": [
      "predicted_sentiment = np.array([+1 if s >0 else -1 for s in scores])"
     ],
     "language": "python",
     "metadata": {},
     "outputs": []
    },
    {
     "cell_type": "markdown",
     "metadata": {},
     "source": [
      "** Quiz question: ** How many reviews were predicted to have positive sentiment?"
     ]
    },
    {
     "cell_type": "code",
     "collapsed": false,
     "input": [
      "sum(predicted_sentiment == +1)"
     ],
     "language": "python",
     "metadata": {},
     "outputs": []
    },
    {
     "cell_type": "markdown",
     "metadata": {},
     "source": [
      "## Measuring accuracy\n",
      "\n",
      "We will now measure the classification accuracy of the model. Recall from the lecture that the classification accuracy can be computed as follows:\n",
      "\n",
      "$$\n",
      "\\mbox{accuracy} = \\frac{\\mbox{# correctly classified data points}}{\\mbox{# total data points}}\n",
      "$$\n",
      "\n",
      "Complete the following code block to compute the accuracy of the model."
     ]
    },
    {
     "cell_type": "code",
     "collapsed": false,
     "input": [
      "num_mistakes = sum(predicted_sentiment != sentiment)\n",
      "accuracy = 1 - float(num_mistakes)/len(sentiment)\n",
      "print \"-----------------------------------------------------\"\n",
      "print '# Reviews   correctly classified =', len(products) - num_mistakes\n",
      "print '# Reviews incorrectly classified =', num_mistakes\n",
      "print '# Reviews total                  =', len(products)\n",
      "print \"-----------------------------------------------------\"\n",
      "print 'Accuracy = %.2f' % accuracy"
     ],
     "language": "python",
     "metadata": {},
     "outputs": []
    },
    {
     "cell_type": "markdown",
     "metadata": {},
     "source": [
      "**Quiz question**: What is the accuracy of the model on predictions made above? (round to 2 digits of accuracy)"
     ]
    },
    {
     "cell_type": "heading",
     "level": 2,
     "metadata": {},
     "source": [
      "Which words contribute most to positive & negative sentiments?"
     ]
    },
    {
     "cell_type": "markdown",
     "metadata": {},
     "source": [
      "Recall that in Module 2 assignment, we were able to compute the \"**most positive words**\". These are words that correspond most strongly with positive reviews. In order to do this, we will first do the following:\n",
      "* Treat each coefficient as a tuple, i.e. (**word**, **coefficient_value**).\n",
      "* Sort all the (**word**, **coefficient_value**) tuples by **coefficient_value** in descending order."
     ]
    },
    {
     "cell_type": "code",
     "collapsed": false,
     "input": [
      "coefficients = list(coefficients[1:]) # exclude intercept\n",
      "word_coefficient_tuples = [(word, coefficient) for word, coefficient in zip(important_words, coefficients)]\n",
      "word_coefficient_tuples = sorted(word_coefficient_tuples, key=lambda x:x[1], reverse=True)"
     ],
     "language": "python",
     "metadata": {
      "scrolled": true
     },
     "outputs": []
    },
    {
     "cell_type": "markdown",
     "metadata": {},
     "source": [
      "Now, **word_coefficient_tuples** contains a sorted list of (**word**, **coefficient_value**) tuples. The first 10 elements in this list correspond to the words that are most positive."
     ]
    },
    {
     "cell_type": "markdown",
     "metadata": {},
     "source": [
      "### Ten \"most positive\" words\n",
      "\n",
      "Now, we compute the 10 words that have the most positive coefficient values. These words are associated with positive sentiment."
     ]
    },
    {
     "cell_type": "code",
     "collapsed": false,
     "input": [
      "word_coefficient_tuples[0:10]"
     ],
     "language": "python",
     "metadata": {},
     "outputs": []
    },
    {
     "cell_type": "markdown",
     "metadata": {},
     "source": [
      "** Quiz question:** Which word is **not** present in the top 10 \"most positive\" words?"
     ]
    },
    {
     "cell_type": "markdown",
     "metadata": {},
     "source": [
      "### Ten \"most negative\" words\n",
      "\n",
      "Next, we repeat this exercise on the 10 most negative words.  That is, we compute the 10 words that have the most negative coefficient values. These words are associated with negative sentiment."
     ]
    },
    {
     "cell_type": "code",
     "collapsed": false,
     "input": [
      "word_coefficient_tuples[-11: -1]"
     ],
     "language": "python",
     "metadata": {},
     "outputs": []
    },
    {
     "cell_type": "markdown",
     "metadata": {},
     "source": [
      "** Quiz question:** Which word is **not** present in the top 10 \"most negative\" words?"
     ]
    }
   ],
   "metadata": {}
  }
 ]
}